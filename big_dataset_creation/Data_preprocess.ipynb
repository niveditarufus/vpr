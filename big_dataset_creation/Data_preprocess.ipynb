{
 "cells": [
  {
   "cell_type": "markdown",
   "id": "4a2857d3",
   "metadata": {
    "tags": []
   },
   "source": [
    "#### Shopee"
   ]
  },
  {
   "cell_type": "code",
   "execution_count": 1,
   "id": "5f32669a",
   "metadata": {
    "tags": []
   },
   "outputs": [
    {
     "name": "stderr",
     "output_type": "stream",
     "text": [
      "/opt/conda/lib/python3.8/site-packages/scipy/__init__.py:146: UserWarning: A NumPy version >=1.16.5 and <1.23.0 is required for this version of SciPy (detected version 1.24.2\n",
      "  warnings.warn(f\"A NumPy version >={np_minversion} and <{np_maxversion}\"\n"
     ]
    }
   ],
   "source": [
    "from glob import glob\n",
    "import os\n",
    "import numpy as np\n",
    "import pandas as pd\n",
    "import cv2\n",
    "from tqdm import tqdm, trange\n",
    "import albumentations as A\n",
    "os.makedirs('autodl-tmp/final_data_224/Shopee/images', exist_ok=True)"
   ]
  },
  {
   "cell_type": "code",
   "execution_count": 2,
   "id": "04eb090c",
   "metadata": {
    "tags": []
   },
   "outputs": [
    {
     "name": "stderr",
     "output_type": "stream",
     "text": [
      "100%|██████████| 11011/11011 [02:25<00:00, 75.51it/s] \n"
     ]
    },
    {
     "name": "stdout",
     "output_type": "stream",
     "text": [
      "32412 11011\n",
      "--->>>\n",
      "17868 3734\n"
     ]
    },
    {
     "data": {
      "text/html": [
       "<div>\n",
       "<style scoped>\n",
       "    .dataframe tbody tr th:only-of-type {\n",
       "        vertical-align: middle;\n",
       "    }\n",
       "\n",
       "    .dataframe tbody tr th {\n",
       "        vertical-align: top;\n",
       "    }\n",
       "\n",
       "    .dataframe thead th {\n",
       "        text-align: right;\n",
       "    }\n",
       "</style>\n",
       "<table border=\"1\" class=\"dataframe\">\n",
       "  <thead>\n",
       "    <tr style=\"text-align: right;\">\n",
       "      <th></th>\n",
       "      <th>posting_id</th>\n",
       "      <th>image</th>\n",
       "      <th>image_phash</th>\n",
       "      <th>title</th>\n",
       "      <th>label_group</th>\n",
       "    </tr>\n",
       "  </thead>\n",
       "  <tbody>\n",
       "    <tr>\n",
       "      <th>0</th>\n",
       "      <td>train_1646767365</td>\n",
       "      <td>1d7aadc7503b2b4539cc9a5fe41979dd.jpg</td>\n",
       "      <td>e925873ed09cd08f</td>\n",
       "      <td>Sarung celana wadimor original 100% dewasa dan...</td>\n",
       "      <td>258047</td>\n",
       "    </tr>\n",
       "  </tbody>\n",
       "</table>\n",
       "</div>"
      ],
      "text/plain": [
       "         posting_id                                 image       image_phash  \\\n",
       "0  train_1646767365  1d7aadc7503b2b4539cc9a5fe41979dd.jpg  e925873ed09cd08f   \n",
       "\n",
       "                                               title  label_group  \n",
       "0  Sarung celana wadimor original 100% dewasa dan...       258047  "
      ]
     },
     "execution_count": 2,
     "metadata": {},
     "output_type": "execute_result"
    }
   ],
   "source": [
    "df = pd.read_csv('autodl-tmp/ori_data/Shopee/train.csv')\n",
    "df.drop_duplicates(subset='image', inplace=True)\n",
    "all_groups = []\n",
    "for label, group in tqdm(df.groupby('label_group')):\n",
    "    if len(group)<3:\n",
    "        continue\n",
    "#     elif len(group)>100:\n",
    "#         group = group.sample(100)\n",
    "    group = group.reset_index(drop=True)\n",
    "    all_groups.append(group)\n",
    "    for idx, row in group.iterrows():\n",
    "        file = row['image']\n",
    "        path = 'autodl-tmp/ori_data/Shopee/train_images/'+file\n",
    "        img = cv2.imread(path)\n",
    "        min_ = min(img.shape[:2])\n",
    "        max_ = max(img.shape[:2])\n",
    "        if min_>224:\n",
    "#             img = A.CenterCrop(min_, min_)(image=img)['image']\n",
    "            img = cv2.resize(img, (224, 224), interpolation = cv2.INTER_AREA)\n",
    "        elif max_>224:\n",
    "            img = cv2.resize(img, (224, 224))\n",
    "#             img = A.CenterCrop(min_, min_)(image=img)['image']\n",
    "        new_path = 'autodl-tmp/final_data_224/Shopee/images/'+file\n",
    "        cv2.imwrite(new_path, img)\n",
    "\n",
    "df_n100_224 = pd.concat(all_groups, axis=0).reset_index(drop=True)\n",
    "df_n100_224.to_csv('autodl-tmp/final_data_224/Shopee/Shopee_final_224.csv', index=False)\n",
    "\n",
    "all_files = glob('autodl-tmp/final_data_224/Shopee/images/*')\n",
    "assert len(all_files)==df_n100_224.shape[0], (len(all_files), df_n100_224.shape[0])\n",
    "print(df.shape[0], df['label_group'].nunique())\n",
    "print('--->>>')\n",
    "print(df_n100_224.shape[0], df_n100_224['label_group'].nunique())\n",
    "df_n100_224.head(1)"
   ]
  },
  {
   "cell_type": "markdown",
   "id": "d60f5da9",
   "metadata": {},
   "source": [
    "#### JD-product-10K"
   ]
  },
  {
   "cell_type": "code",
   "execution_count": 1,
   "id": "dac2534b",
   "metadata": {
    "tags": []
   },
   "outputs": [],
   "source": [
    "from glob import glob\n",
    "import os\n",
    "import numpy as np\n",
    "import pandas as pd\n",
    "import cv2\n",
    "from tqdm import tqdm, trange\n",
    "import albumentations as A\n",
    "os.makedirs('autodl-tmp/final_data_224/JD_Products_10K/images', exist_ok=True)"
   ]
  },
  {
   "cell_type": "code",
   "execution_count": 7,
   "id": "73284b83",
   "metadata": {},
   "outputs": [
    {
     "data": {
      "text/html": [
       "<div>\n",
       "<style scoped>\n",
       "    .dataframe tbody tr th:only-of-type {\n",
       "        vertical-align: middle;\n",
       "    }\n",
       "\n",
       "    .dataframe tbody tr th {\n",
       "        vertical-align: top;\n",
       "    }\n",
       "\n",
       "    .dataframe thead th {\n",
       "        text-align: right;\n",
       "    }\n",
       "</style>\n",
       "<table border=\"1\" class=\"dataframe\">\n",
       "  <thead>\n",
       "    <tr style=\"text-align: right;\">\n",
       "      <th></th>\n",
       "      <th>name</th>\n",
       "      <th>class</th>\n",
       "      <th>group</th>\n",
       "      <th>Usage</th>\n",
       "    </tr>\n",
       "  </thead>\n",
       "  <tbody>\n",
       "    <tr>\n",
       "      <th>0</th>\n",
       "      <td>1.jpg</td>\n",
       "      <td>0</td>\n",
       "      <td>0.0</td>\n",
       "      <td>NaN</td>\n",
       "    </tr>\n",
       "    <tr>\n",
       "      <th>1</th>\n",
       "      <td>2.jpg</td>\n",
       "      <td>0</td>\n",
       "      <td>0.0</td>\n",
       "      <td>NaN</td>\n",
       "    </tr>\n",
       "    <tr>\n",
       "      <th>2</th>\n",
       "      <td>3.jpg</td>\n",
       "      <td>0</td>\n",
       "      <td>0.0</td>\n",
       "      <td>NaN</td>\n",
       "    </tr>\n",
       "    <tr>\n",
       "      <th>3</th>\n",
       "      <td>4.jpg</td>\n",
       "      <td>0</td>\n",
       "      <td>0.0</td>\n",
       "      <td>NaN</td>\n",
       "    </tr>\n",
       "    <tr>\n",
       "      <th>4</th>\n",
       "      <td>5.jpg</td>\n",
       "      <td>0</td>\n",
       "      <td>0.0</td>\n",
       "      <td>NaN</td>\n",
       "    </tr>\n",
       "    <tr>\n",
       "      <th>...</th>\n",
       "      <td>...</td>\n",
       "      <td>...</td>\n",
       "      <td>...</td>\n",
       "      <td>...</td>\n",
       "    </tr>\n",
       "    <tr>\n",
       "      <th>197302</th>\n",
       "      <td>5024167.jpg</td>\n",
       "      <td>9690</td>\n",
       "      <td>NaN</td>\n",
       "      <td>Public</td>\n",
       "    </tr>\n",
       "    <tr>\n",
       "      <th>197303</th>\n",
       "      <td>2903198.jpg</td>\n",
       "      <td>9690</td>\n",
       "      <td>NaN</td>\n",
       "      <td>Public</td>\n",
       "    </tr>\n",
       "    <tr>\n",
       "      <th>197304</th>\n",
       "      <td>6184217.jpg</td>\n",
       "      <td>9690</td>\n",
       "      <td>NaN</td>\n",
       "      <td>Private</td>\n",
       "    </tr>\n",
       "    <tr>\n",
       "      <th>197305</th>\n",
       "      <td>9593422.jpg</td>\n",
       "      <td>9690</td>\n",
       "      <td>NaN</td>\n",
       "      <td>Private</td>\n",
       "    </tr>\n",
       "    <tr>\n",
       "      <th>197306</th>\n",
       "      <td>6888305.jpg</td>\n",
       "      <td>9690</td>\n",
       "      <td>NaN</td>\n",
       "      <td>Private</td>\n",
       "    </tr>\n",
       "  </tbody>\n",
       "</table>\n",
       "<p>197307 rows × 4 columns</p>\n",
       "</div>"
      ],
      "text/plain": [
       "               name  class  group    Usage\n",
       "0             1.jpg      0    0.0      NaN\n",
       "1             2.jpg      0    0.0      NaN\n",
       "2             3.jpg      0    0.0      NaN\n",
       "3             4.jpg      0    0.0      NaN\n",
       "4             5.jpg      0    0.0      NaN\n",
       "...             ...    ...    ...      ...\n",
       "197302  5024167.jpg   9690    NaN   Public\n",
       "197303  2903198.jpg   9690    NaN   Public\n",
       "197304  6184217.jpg   9690    NaN  Private\n",
       "197305  9593422.jpg   9690    NaN  Private\n",
       "197306  6888305.jpg   9690    NaN  Private\n",
       "\n",
       "[197307 rows x 4 columns]"
      ]
     },
     "execution_count": 7,
     "metadata": {},
     "output_type": "execute_result"
    }
   ],
   "source": [
    "df1 = pd.read_csv('autodl-tmp/ori_data/JD_Products_10K/train.csv')\n",
    "df2 = pd.read_csv('autodl-tmp/ori_data/JD_Products_10K/test_kaggletest.csv')\n",
    "df = pd.concat([df1, df2], axis=0).reset_index(drop=True)\n",
    "df"
   ]
  },
  {
   "cell_type": "code",
   "execution_count": null,
   "id": "085d0d32",
   "metadata": {},
   "outputs": [],
   "source": [
    "for label, group in tqdm(df.groupby('class')):\n",
    "    if len(group)<5:\n",
    "        continue\n",
    "    group = group.reset_index(drop=True)\n",
    "    all_groups.append(group)\n",
    "    for idx, row in group.iterrows():\n",
    "        file = row['name']\n",
    "        if np.isnan(row['group']):"
   ]
  },
  {
   "cell_type": "code",
   "execution_count": 18,
   "id": "985a1aa7",
   "metadata": {
    "tags": []
   },
   "outputs": [
    {
     "name": "stderr",
     "output_type": "stream",
     "text": [
      "100%|██████████| 9691/9691 [45:52<00:00,  3.52it/s]  \n"
     ]
    },
    {
     "name": "stdout",
     "output_type": "stream",
     "text": [
      "197307 9691\n",
      "--->>>\n",
      "197307 9691\n"
     ]
    },
    {
     "data": {
      "text/html": [
       "<div>\n",
       "<style scoped>\n",
       "    .dataframe tbody tr th:only-of-type {\n",
       "        vertical-align: middle;\n",
       "    }\n",
       "\n",
       "    .dataframe tbody tr th {\n",
       "        vertical-align: top;\n",
       "    }\n",
       "\n",
       "    .dataframe thead th {\n",
       "        text-align: right;\n",
       "    }\n",
       "</style>\n",
       "<table border=\"1\" class=\"dataframe\">\n",
       "  <thead>\n",
       "    <tr style=\"text-align: right;\">\n",
       "      <th></th>\n",
       "      <th>name</th>\n",
       "      <th>class</th>\n",
       "      <th>group</th>\n",
       "      <th>Usage</th>\n",
       "    </tr>\n",
       "  </thead>\n",
       "  <tbody>\n",
       "    <tr>\n",
       "      <th>0</th>\n",
       "      <td>1.jpg</td>\n",
       "      <td>0</td>\n",
       "      <td>0.0</td>\n",
       "      <td>NaN</td>\n",
       "    </tr>\n",
       "    <tr>\n",
       "      <th>1</th>\n",
       "      <td>2.jpg</td>\n",
       "      <td>0</td>\n",
       "      <td>0.0</td>\n",
       "      <td>NaN</td>\n",
       "    </tr>\n",
       "    <tr>\n",
       "      <th>2</th>\n",
       "      <td>3.jpg</td>\n",
       "      <td>0</td>\n",
       "      <td>0.0</td>\n",
       "      <td>NaN</td>\n",
       "    </tr>\n",
       "    <tr>\n",
       "      <th>3</th>\n",
       "      <td>4.jpg</td>\n",
       "      <td>0</td>\n",
       "      <td>0.0</td>\n",
       "      <td>NaN</td>\n",
       "    </tr>\n",
       "    <tr>\n",
       "      <th>4</th>\n",
       "      <td>5.jpg</td>\n",
       "      <td>0</td>\n",
       "      <td>0.0</td>\n",
       "      <td>NaN</td>\n",
       "    </tr>\n",
       "  </tbody>\n",
       "</table>\n",
       "</div>"
      ],
      "text/plain": [
       "    name  class  group Usage\n",
       "0  1.jpg      0    0.0   NaN\n",
       "1  2.jpg      0    0.0   NaN\n",
       "2  3.jpg      0    0.0   NaN\n",
       "3  4.jpg      0    0.0   NaN\n",
       "4  5.jpg      0    0.0   NaN"
      ]
     },
     "execution_count": 18,
     "metadata": {},
     "output_type": "execute_result"
    }
   ],
   "source": [
    "df1 = pd.read_csv('autodl-tmp/ori_data/JD_Products_10K/train.csv')\n",
    "df2 = pd.read_csv('autodl-tmp/ori_data/JD_Products_10K/test_kaggletest.csv')\n",
    "df = pd.concat([df1, df2], axis=0).reset_index(drop=True)\n",
    "all_groups = []\n",
    "for label, group in tqdm(df.groupby('class')):\n",
    "    if len(group)<5:\n",
    "        continue\n",
    "    group = group.reset_index(drop=True)\n",
    "    all_groups.append(group)\n",
    "    for idx, row in group.iterrows():\n",
    "        file = row['name']\n",
    "        if np.isnan(row['group']):\n",
    "            path = f'autodl-tmp/ori_data/JD_Products_10K/test/{file}'\n",
    "        else:\n",
    "            path = f'autodl-tmp/ori_data/JD_Products_10K/train/{file}'\n",
    "        img = cv2.imread(path)\n",
    "        min_ = min(img.shape[:2])\n",
    "        max_ = max(img.shape[:2])\n",
    "        if min_>224:\n",
    "            img = cv2.resize(img, (224, 224), interpolation = cv2.INTER_AREA)\n",
    "        elif max_>224:\n",
    "            img = cv2.resize(img, (224, 224))\n",
    "        new_path = 'autodl-tmp/final_data_224/JD_Products_10K/images/'+f'{file}'\n",
    "        cv2.imwrite(new_path, img)\n",
    "df_n100_224 = pd.concat(all_groups, axis=0).reset_index(drop=True)\n",
    "df_n100_224.to_csv('autodl-tmp/final_data_224/JD_Products_10K/JD_product10K_train_final_224.csv', index=False)\n",
    "all_files = glob('autodl-tmp/final_data_224/JD_Products_10K/images/*')\n",
    "assert len(all_files)==df_n100_224.shape[0]\n",
    "print(df.shape[0], df['class'].nunique())\n",
    "print('--->>>')\n",
    "print(df_n100_224.shape[0], df_n100_224['class'].nunique())\n",
    "df_n100_224.head(5)"
   ]
  },
  {
   "cell_type": "markdown",
   "id": "96b947e8",
   "metadata": {},
   "source": [
    "#### Ali_Products"
   ]
  },
  {
   "cell_type": "code",
   "execution_count": 32,
   "id": "ce80c375",
   "metadata": {
    "tags": []
   },
   "outputs": [],
   "source": [
    "from glob import glob\n",
    "import os\n",
    "import numpy as np\n",
    "import pandas as pd\n",
    "import cv2\n",
    "from tqdm import tqdm, trange\n",
    "import albumentations as A\n",
    "os.makedirs('autodl-tmp/final_data_224/Aliproducts/images', exist_ok=True)"
   ]
  },
  {
   "cell_type": "code",
   "execution_count": 34,
   "id": "7bb1f4f5",
   "metadata": {
    "tags": []
   },
   "outputs": [
    {
     "name": "stderr",
     "output_type": "stream",
     "text": [
      " 98%|█████████▊| 49252/50030 [08:50<00:07, 107.56it/s]libpng warning: iCCP: known incorrect sRGB profile\n",
      "100%|██████████| 50030/50030 [08:58<00:00, 92.84it/s] \n"
     ]
    },
    {
     "name": "stdout",
     "output_type": "stream",
     "text": [
      "148387 50030\n",
      "--->>>\n",
      "103565 27619\n"
     ]
    },
    {
     "data": {
      "text/html": [
       "<div>\n",
       "<style scoped>\n",
       "    .dataframe tbody tr th:only-of-type {\n",
       "        vertical-align: middle;\n",
       "    }\n",
       "\n",
       "    .dataframe tbody tr th {\n",
       "        vertical-align: top;\n",
       "    }\n",
       "\n",
       "    .dataframe thead th {\n",
       "        text-align: right;\n",
       "    }\n",
       "</style>\n",
       "<table border=\"1\" class=\"dataframe\">\n",
       "  <thead>\n",
       "    <tr style=\"text-align: right;\">\n",
       "      <th></th>\n",
       "      <th>image_files</th>\n",
       "      <th>labels</th>\n",
       "    </tr>\n",
       "  </thead>\n",
       "  <tbody>\n",
       "    <tr>\n",
       "      <th>0</th>\n",
       "      <td>autodl-tmp/ori_data/Aliproducts/train9/val/447...</td>\n",
       "      <td>1</td>\n",
       "    </tr>\n",
       "    <tr>\n",
       "      <th>1</th>\n",
       "      <td>autodl-tmp/ori_data/Aliproducts/train9/val/447...</td>\n",
       "      <td>1</td>\n",
       "    </tr>\n",
       "    <tr>\n",
       "      <th>2</th>\n",
       "      <td>autodl-tmp/ori_data/Aliproducts/train9/val/447...</td>\n",
       "      <td>1</td>\n",
       "    </tr>\n",
       "    <tr>\n",
       "      <th>3</th>\n",
       "      <td>autodl-tmp/ori_data/Aliproducts/train9/val/161...</td>\n",
       "      <td>2</td>\n",
       "    </tr>\n",
       "    <tr>\n",
       "      <th>4</th>\n",
       "      <td>autodl-tmp/ori_data/Aliproducts/train9/val/161...</td>\n",
       "      <td>2</td>\n",
       "    </tr>\n",
       "  </tbody>\n",
       "</table>\n",
       "</div>"
      ],
      "text/plain": [
       "                                         image_files  labels\n",
       "0  autodl-tmp/ori_data/Aliproducts/train9/val/447...       1\n",
       "1  autodl-tmp/ori_data/Aliproducts/train9/val/447...       1\n",
       "2  autodl-tmp/ori_data/Aliproducts/train9/val/447...       1\n",
       "3  autodl-tmp/ori_data/Aliproducts/train9/val/161...       2\n",
       "4  autodl-tmp/ori_data/Aliproducts/train9/val/161...       2"
      ]
     },
     "execution_count": 34,
     "metadata": {},
     "output_type": "execute_result"
    }
   ],
   "source": [
    "df = pd.read_csv('autodl-tmp/ori_data/Aliproducts/Aliproducts.csv')\n",
    "all_groups = []\n",
    "for label, group in tqdm(df.groupby('labels')):\n",
    "    if len(group)<3:\n",
    "        continue\n",
    "    group = group.reset_index(drop=True)\n",
    "    all_groups.append(group)\n",
    "    for idx, row in group.iterrows():\n",
    "        path = row['image_files']\n",
    "        img = cv2.imread(path)\n",
    "        min_ = min(img.shape[:2])\n",
    "        max_ = max(img.shape[:2])\n",
    "        if min_>224:\n",
    "            img = cv2.resize(img, (224, 224), interpolation = cv2.INTER_AREA)\n",
    "        elif max_>224:\n",
    "            img = cv2.resize(img, (224, 224))\n",
    "        new_path = 'autodl-tmp/final_data_224/Aliproducts/images/'+path.split('/')[-1]\n",
    "        cv2.imwrite(new_path, img)\n",
    "\n",
    "df_n100_224 = pd.concat(all_groups, axis=0).reset_index(drop=True)\n",
    "df_n100_224.to_csv('autodl-tmp/final_data_224/Aliproducts/Aliproducts_final_224.csv', index=False)\n",
    "\n",
    "all_files = glob('autodl-tmp/final_data_224/Aliproducts/images/*')\n",
    "assert len(all_files)==df_n100_224.shape[0]\n",
    "\n",
    "print(df.shape[0], df['labels'].nunique())\n",
    "print('--->>>')\n",
    "print(df_n100_224.shape[0], df_n100_224['labels'].nunique())\n",
    "df_n100_224.head(5)"
   ]
  },
  {
   "cell_type": "markdown",
   "id": "3d684f5c",
   "metadata": {},
   "source": [
    "#### Stanford_Products"
   ]
  },
  {
   "cell_type": "code",
   "execution_count": 22,
   "id": "f986ae7c",
   "metadata": {
    "tags": []
   },
   "outputs": [],
   "source": [
    "from glob import glob\n",
    "import os\n",
    "import numpy as np\n",
    "import pandas as pd\n",
    "import cv2\n",
    "from tqdm import tqdm, trange\n",
    "import albumentations as A\n",
    "os.makedirs('autodl-tmp/final_data_224/Stanford_Products/images', exist_ok=True)"
   ]
  },
  {
   "cell_type": "code",
   "execution_count": 23,
   "id": "0c7536df",
   "metadata": {
    "tags": []
   },
   "outputs": [
    {
     "name": "stderr",
     "output_type": "stream",
     "text": [
      "100%|██████████| 22634/22634 [05:09<00:00, 73.06it/s] \n"
     ]
    },
    {
     "name": "stdout",
     "output_type": "stream",
     "text": [
      "120053 22634\n",
      "--->>>\n",
      "86586 11190\n"
     ]
    },
    {
     "data": {
      "text/html": [
       "<div>\n",
       "<style scoped>\n",
       "    .dataframe tbody tr th:only-of-type {\n",
       "        vertical-align: middle;\n",
       "    }\n",
       "\n",
       "    .dataframe tbody tr th {\n",
       "        vertical-align: top;\n",
       "    }\n",
       "\n",
       "    .dataframe thead th {\n",
       "        text-align: right;\n",
       "    }\n",
       "</style>\n",
       "<table border=\"1\" class=\"dataframe\">\n",
       "  <thead>\n",
       "    <tr style=\"text-align: right;\">\n",
       "      <th></th>\n",
       "      <th>image_files</th>\n",
       "      <th>labels</th>\n",
       "    </tr>\n",
       "  </thead>\n",
       "  <tbody>\n",
       "    <tr>\n",
       "      <th>0</th>\n",
       "      <td>autodl-tmp/ori_data/Stanford_Online_Products/c...</td>\n",
       "      <td>0</td>\n",
       "    </tr>\n",
       "    <tr>\n",
       "      <th>1</th>\n",
       "      <td>autodl-tmp/ori_data/Stanford_Online_Products/c...</td>\n",
       "      <td>0</td>\n",
       "    </tr>\n",
       "    <tr>\n",
       "      <th>2</th>\n",
       "      <td>autodl-tmp/ori_data/Stanford_Online_Products/c...</td>\n",
       "      <td>0</td>\n",
       "    </tr>\n",
       "    <tr>\n",
       "      <th>3</th>\n",
       "      <td>autodl-tmp/ori_data/Stanford_Online_Products/c...</td>\n",
       "      <td>0</td>\n",
       "    </tr>\n",
       "    <tr>\n",
       "      <th>4</th>\n",
       "      <td>autodl-tmp/ori_data/Stanford_Online_Products/c...</td>\n",
       "      <td>0</td>\n",
       "    </tr>\n",
       "  </tbody>\n",
       "</table>\n",
       "</div>"
      ],
      "text/plain": [
       "                                         image_files  labels\n",
       "0  autodl-tmp/ori_data/Stanford_Online_Products/c...       0\n",
       "1  autodl-tmp/ori_data/Stanford_Online_Products/c...       0\n",
       "2  autodl-tmp/ori_data/Stanford_Online_Products/c...       0\n",
       "3  autodl-tmp/ori_data/Stanford_Online_Products/c...       0\n",
       "4  autodl-tmp/ori_data/Stanford_Online_Products/c...       0"
      ]
     },
     "execution_count": 23,
     "metadata": {},
     "output_type": "execute_result"
    }
   ],
   "source": [
    "df = pd.read_csv('autodl-tmp/ori_data/Stanford_Online_Products/Stanford_Products.csv')\n",
    "all_groups = []\n",
    "for label, group in tqdm(df.groupby('labels')):\n",
    "    if len(group)<5:\n",
    "        continue\n",
    "    group = group.reset_index(drop=True)\n",
    "    all_groups.append(group)\n",
    "    for idx, row in group.iterrows():\n",
    "        path = row['image_files']\n",
    "        img = cv2.imread(path)\n",
    "        min_ = min(img.shape[:2])\n",
    "        max_ = max(img.shape[:2])\n",
    "        if min_>224:\n",
    "            img = cv2.resize(img, (224, 224), interpolation = cv2.INTER_AREA)\n",
    "        elif max_>224:\n",
    "            img = cv2.resize(img, (224, 224))\n",
    "        new_path = 'autodl-tmp/final_data_224/Stanford_Products/images/'+path.split('/')[-1]\n",
    "        cv2.imwrite(new_path, img)\n",
    "\n",
    "df_n100_224 = pd.concat(all_groups, axis=0).reset_index(drop=True)\n",
    "df_n100_224.to_csv('autodl-tmp/final_data_224/Stanford_Products/Stanford_Products_final_224.csv', index=False)\n",
    "\n",
    "all_files = glob('autodl-tmp/final_data_224/Stanford_Products/images/*')\n",
    "assert len(all_files)==df_n100_224.shape[0]\n",
    "print(df.shape[0], df['labels'].nunique())\n",
    "print('--->>>')\n",
    "print(df_n100_224.shape[0], df_n100_224['labels'].nunique())\n",
    "df_n100_224.head(5)"
   ]
  },
  {
   "cell_type": "markdown",
   "id": "54267f86",
   "metadata": {},
   "source": [
    "#### Deep Fashion （Consumer-to-shop）"
   ]
  },
  {
   "cell_type": "code",
   "execution_count": 24,
   "id": "9070c90f",
   "metadata": {
    "tags": []
   },
   "outputs": [],
   "source": [
    "from glob import glob\n",
    "import os\n",
    "import numpy as np\n",
    "import pandas as pd\n",
    "import cv2\n",
    "from tqdm import tqdm, trange\n",
    "import albumentations as A\n",
    "os.makedirs('autodl-tmp/final_data_224/DeepFashion_CTS/images', exist_ok=True)"
   ]
  },
  {
   "cell_type": "code",
   "execution_count": 25,
   "id": "bccebbdf",
   "metadata": {
    "tags": []
   },
   "outputs": [
    {
     "name": "stderr",
     "output_type": "stream",
     "text": [
      "100%|██████████| 19212/19212 [11:59<00:00, 26.69it/s] \n"
     ]
    },
    {
     "name": "stdout",
     "output_type": "stream",
     "text": [
      "179707 19212\n",
      "--->>>\n",
      "172089 15403\n"
     ]
    },
    {
     "data": {
      "text/html": [
       "<div>\n",
       "<style scoped>\n",
       "    .dataframe tbody tr th:only-of-type {\n",
       "        vertical-align: middle;\n",
       "    }\n",
       "\n",
       "    .dataframe tbody tr th {\n",
       "        vertical-align: top;\n",
       "    }\n",
       "\n",
       "    .dataframe thead th {\n",
       "        text-align: right;\n",
       "    }\n",
       "</style>\n",
       "<table border=\"1\" class=\"dataframe\">\n",
       "  <thead>\n",
       "    <tr style=\"text-align: right;\">\n",
       "      <th></th>\n",
       "      <th>image_files</th>\n",
       "      <th>labels</th>\n",
       "    </tr>\n",
       "  </thead>\n",
       "  <tbody>\n",
       "    <tr>\n",
       "      <th>0</th>\n",
       "      <td>autodl-tmp/final_data_224/DeepFashion_CTS/imag...</td>\n",
       "      <td>0</td>\n",
       "    </tr>\n",
       "  </tbody>\n",
       "</table>\n",
       "</div>"
      ],
      "text/plain": [
       "                                         image_files  labels\n",
       "0  autodl-tmp/final_data_224/DeepFashion_CTS/imag...       0"
      ]
     },
     "execution_count": 25,
     "metadata": {},
     "output_type": "execute_result"
    }
   ],
   "source": [
    "df = pd.read_csv('autodl-tmp/ori_data/DeepFashion/DeepFashion.csv')\n",
    "all_groups = []\n",
    "for label, group in tqdm(df.groupby('labels')):\n",
    "    if len(group)<3:\n",
    "        continue\n",
    "    group = group.reset_index(drop=True)\n",
    "    for idx, row in group.iterrows():\n",
    "        path = row['image_files']\n",
    "        img = cv2.imread(path)\n",
    "        min_ = min(img.shape[:2])\n",
    "        max_ = max(img.shape[:2])\n",
    "        if min_>224:\n",
    "            img = cv2.resize(img, (224, 224), interpolation = cv2.INTER_AREA)\n",
    "        elif max_>224:\n",
    "            img = cv2.resize(img, (224, 224))\n",
    "        new_path = 'autodl-tmp/final_data_224/DeepFashion_CTS/images/'+f'f_{label}_{idx}_'+path.split('/')[-1]\n",
    "        cv2.imwrite(new_path, img)\n",
    "        group.loc[idx, 'image_files'] = new_path\n",
    "    all_groups.append(group)\n",
    "\n",
    "df_n100_224 = pd.concat(all_groups, axis=0).reset_index(drop=True)\n",
    "df_n100_224.to_csv('autodl-tmp/final_data_224/DeepFashion_CTS/DeepFashion_CTS_final_224.csv', index=False)\n",
    "\n",
    "all_files = glob('autodl-tmp/final_data_224/DeepFashion_CTS/images/*')\n",
    "assert len(all_files)==df_n100_224.shape[0],(len(all_files), df_n100_224.shape[0])\n",
    "print(df.shape[0], df['labels'].nunique())\n",
    "print('--->>>')\n",
    "print(df_n100_224.shape[0], df_n100_224['labels'].nunique())\n",
    "df_n100_224.head(1)"
   ]
  },
  {
   "cell_type": "markdown",
   "id": "65f56832",
   "metadata": {},
   "source": [
    "#### Fashion200K"
   ]
  },
  {
   "cell_type": "code",
   "execution_count": 26,
   "id": "adf6eafc",
   "metadata": {
    "tags": []
   },
   "outputs": [],
   "source": [
    "from glob import glob\n",
    "import os\n",
    "import numpy as np\n",
    "import pandas as pd\n",
    "import cv2\n",
    "from tqdm import tqdm, trange\n",
    "import albumentations as A\n",
    "os.makedirs('autodl-tmp/final_data_224/Fashion_200K/images', exist_ok=True)"
   ]
  },
  {
   "cell_type": "code",
   "execution_count": 27,
   "id": "3f0c7779",
   "metadata": {
    "tags": []
   },
   "outputs": [
    {
     "name": "stderr",
     "output_type": "stream",
     "text": [
      "100%|██████████| 106000/106000 [12:49<00:00, 137.73it/s]\n"
     ]
    },
    {
     "name": "stdout",
     "output_type": "stream",
     "text": [
      "338339 106000\n",
      "--->>>\n",
      "259760 56196\n"
     ]
    },
    {
     "data": {
      "text/html": [
       "<div>\n",
       "<style scoped>\n",
       "    .dataframe tbody tr th:only-of-type {\n",
       "        vertical-align: middle;\n",
       "    }\n",
       "\n",
       "    .dataframe tbody tr th {\n",
       "        vertical-align: top;\n",
       "    }\n",
       "\n",
       "    .dataframe thead th {\n",
       "        text-align: right;\n",
       "    }\n",
       "</style>\n",
       "<table border=\"1\" class=\"dataframe\">\n",
       "  <thead>\n",
       "    <tr style=\"text-align: right;\">\n",
       "      <th></th>\n",
       "      <th>image_files</th>\n",
       "      <th>labels</th>\n",
       "    </tr>\n",
       "  </thead>\n",
       "  <tbody>\n",
       "    <tr>\n",
       "      <th>0</th>\n",
       "      <td>autodl-tmp/final_data_224/Fashion_200K/images/...</td>\n",
       "      <td>2</td>\n",
       "    </tr>\n",
       "    <tr>\n",
       "      <th>1</th>\n",
       "      <td>autodl-tmp/final_data_224/Fashion_200K/images/...</td>\n",
       "      <td>2</td>\n",
       "    </tr>\n",
       "    <tr>\n",
       "      <th>2</th>\n",
       "      <td>autodl-tmp/final_data_224/Fashion_200K/images/...</td>\n",
       "      <td>2</td>\n",
       "    </tr>\n",
       "    <tr>\n",
       "      <th>3</th>\n",
       "      <td>autodl-tmp/final_data_224/Fashion_200K/images/...</td>\n",
       "      <td>2</td>\n",
       "    </tr>\n",
       "    <tr>\n",
       "      <th>4</th>\n",
       "      <td>autodl-tmp/final_data_224/Fashion_200K/images/...</td>\n",
       "      <td>3</td>\n",
       "    </tr>\n",
       "  </tbody>\n",
       "</table>\n",
       "</div>"
      ],
      "text/plain": [
       "                                         image_files  labels\n",
       "0  autodl-tmp/final_data_224/Fashion_200K/images/...       2\n",
       "1  autodl-tmp/final_data_224/Fashion_200K/images/...       2\n",
       "2  autodl-tmp/final_data_224/Fashion_200K/images/...       2\n",
       "3  autodl-tmp/final_data_224/Fashion_200K/images/...       2\n",
       "4  autodl-tmp/final_data_224/Fashion_200K/images/...       3"
      ]
     },
     "execution_count": 27,
     "metadata": {},
     "output_type": "execute_result"
    }
   ],
   "source": [
    "df = pd.read_csv('autodl-tmp/ori_data/Fashion_200K/Fashion_200K.csv')\n",
    "all_groups = []\n",
    "for label, group in tqdm(df.groupby('labels')):\n",
    "    if len(group)<3:\n",
    "        continue\n",
    "    group = group.reset_index(drop=True)\n",
    "    for idx, row in group.iterrows():\n",
    "        path = row['image_files']\n",
    "        img = cv2.imread(path)\n",
    "        min_ = min(img.shape[:2])\n",
    "        max_ = max(img.shape[:2])\n",
    "        if min_>224:\n",
    "            img = cv2.resize(img, (224, 224), interpolation = cv2.INTER_AREA)\n",
    "        elif max_>224:\n",
    "            img = cv2.resize(img, (224, 224))\n",
    "        new_path = 'autodl-tmp/final_data_224/Fashion_200K/images/'+path.split('/')[-3]+path.split('/')[-1]\n",
    "        cv2.imwrite(new_path, img)\n",
    "        group.loc[idx, 'image_files'] = new_path\n",
    "    all_groups.append(group)\n",
    "df_n100_224 = pd.concat(all_groups, axis=0).reset_index(drop=True)\n",
    "df_n100_224.to_csv('autodl-tmp/final_data_224/Fashion_200K/Fashion_200K_final_224.csv', index=False)\n",
    "\n",
    "all_files = glob('autodl-tmp/final_data_224/Fashion_200K/images/*')\n",
    "assert len(all_files)==df_n100_224.shape[0], (len(all_files), df_n100_224.shape[0])\n",
    "print(df.shape[0], df['labels'].nunique())\n",
    "print('--->>>')\n",
    "print(df_n100_224.shape[0], df_n100_224['labels'].nunique())\n",
    "df_n100_224.head(5)"
   ]
  },
  {
   "cell_type": "markdown",
   "id": "0c9650ae",
   "metadata": {},
   "source": [
    "### RP2K"
   ]
  },
  {
   "cell_type": "code",
   "execution_count": 28,
   "id": "3d84585e",
   "metadata": {
    "tags": []
   },
   "outputs": [],
   "source": [
    "from glob import glob\n",
    "import os\n",
    "import numpy as np\n",
    "import pandas as pd\n",
    "import cv2\n",
    "from tqdm import tqdm, trange\n",
    "import albumentations as A\n",
    "os.makedirs('autodl-tmp/final_data_224/rp2k/images', exist_ok=True)"
   ]
  },
  {
   "cell_type": "code",
   "execution_count": 29,
   "id": "723737f7",
   "metadata": {
    "tags": []
   },
   "outputs": [
    {
     "name": "stderr",
     "output_type": "stream",
     "text": [
      "  6%|▌         | 149/2388 [00:33<05:04,  7.35it/s]libpng warning: iCCP: known incorrect sRGB profile\n",
      "libpng warning: iCCP: cHRM chunk does not match sRGB\n",
      "libpng warning: iCCP: known incorrect sRGB profile\n",
      "libpng warning: iCCP: cHRM chunk does not match sRGB\n",
      " 20%|██        | 482/2388 [02:16<09:23,  3.38it/s]  libpng warning: iCCP: extra compressed data\n",
      "libpng warning: iCCP: extra compressed data\n",
      "libpng warning: iCCP: extra compressed data\n",
      "libpng warning: iCCP: extra compressed data\n",
      "libpng warning: iCCP: extra compressed data\n",
      "libpng warning: iCCP: extra compressed data\n",
      " 42%|████▏     | 1003/2388 [04:17<04:21,  5.29it/s]libpng warning: iCCP: extra compressed data\n",
      "libpng warning: iCCP: extra compressed data\n",
      "libpng warning: iCCP: extra compressed data\n",
      "libpng warning: iCCP: extra compressed data\n",
      "libpng warning: iCCP: extra compressed data\n",
      "libpng warning: iCCP: extra compressed data\n",
      " 53%|█████▎    | 1265/2388 [05:23<04:04,  4.59it/s]libpng warning: iCCP: extra compressed data\n",
      "libpng warning: iCCP: extra compressed data\n",
      "libpng warning: iCCP: extra compressed data\n",
      "libpng warning: iCCP: extra compressed data\n",
      "libpng warning: iCCP: extra compressed data\n",
      "libpng warning: iCCP: extra compressed data\n",
      " 56%|█████▌    | 1326/2388 [05:36<03:31,  5.01it/s]libpng warning: iCCP: extra compressed data\n",
      "libpng warning: iCCP: extra compressed data\n",
      "libpng warning: iCCP: extra compressed data\n",
      "libpng warning: iCCP: extra compressed data\n",
      "libpng warning: iCCP: extra compressed data\n",
      " 57%|█████▋    | 1352/2388 [05:41<05:42,  3.03it/s]libpng warning: iCCP: extra compressed data\n",
      "libpng warning: iCCP: extra compressed data\n",
      "libpng warning: iCCP: extra compressed data\n",
      "libpng warning: iCCP: extra compressed data\n",
      "libpng warning: iCCP: extra compressed data\n",
      " 83%|████████▎ | 1990/2388 [07:55<00:41,  9.57it/s]libpng warning: iCCP: extra compressed data\n",
      "libpng warning: iCCP: extra compressed data\n",
      "libpng warning: iCCP: extra compressed data\n",
      "libpng warning: iCCP: extra compressed data\n",
      "libpng warning: iCCP: extra compressed data\n",
      "libpng warning: iCCP: extra compressed data\n",
      " 84%|████████▍ | 2010/2388 [07:58<00:42,  8.82it/s]libpng warning: iCCP: extra compressed data\n",
      "libpng warning: iCCP: extra compressed data\n",
      "libpng warning: iCCP: extra compressed data\n",
      "libpng warning: iCCP: extra compressed data\n",
      "libpng warning: iCCP: extra compressed data\n",
      " 96%|█████████▌| 2297/2388 [09:02<00:08, 10.48it/s]libpng warning: iCCP: extra compressed data\n",
      "libpng warning: iCCP: extra compressed data\n",
      "libpng warning: iCCP: extra compressed data\n",
      "libpng warning: iCCP: extra compressed data\n",
      "libpng warning: iCCP: extra compressed data\n",
      "100%|██████████| 2388/2388 [09:12<00:00,  4.33it/s]\n"
     ]
    },
    {
     "ename": "AssertionError",
     "evalue": "(380822, 384183)",
     "output_type": "error",
     "traceback": [
      "\u001b[0;31m---------------------------------------------------------------------------\u001b[0m",
      "\u001b[0;31mAssertionError\u001b[0m                            Traceback (most recent call last)",
      "Input \u001b[0;32mIn [29]\u001b[0m, in \u001b[0;36m<cell line: 26>\u001b[0;34m()\u001b[0m\n\u001b[1;32m     23\u001b[0m df_n100_224\u001b[38;5;241m.\u001b[39mto_csv(\u001b[38;5;124m'\u001b[39m\u001b[38;5;124mautodl-tmp/final_data_224/rp2k/rp2k_final_224.csv\u001b[39m\u001b[38;5;124m'\u001b[39m, index\u001b[38;5;241m=\u001b[39m\u001b[38;5;28;01mFalse\u001b[39;00m)\n\u001b[1;32m     25\u001b[0m all_files \u001b[38;5;241m=\u001b[39m glob(\u001b[38;5;124m'\u001b[39m\u001b[38;5;124mautodl-tmp/final_data_224/rp2k/images/*\u001b[39m\u001b[38;5;124m'\u001b[39m)\n\u001b[0;32m---> 26\u001b[0m \u001b[38;5;28;01massert\u001b[39;00m \u001b[38;5;28mlen\u001b[39m(all_files)\u001b[38;5;241m==\u001b[39mdf_n100_224\u001b[38;5;241m.\u001b[39mshape[\u001b[38;5;241m0\u001b[39m], (\u001b[38;5;28mlen\u001b[39m(all_files), df_n100_224\u001b[38;5;241m.\u001b[39mshape[\u001b[38;5;241m0\u001b[39m])\n\u001b[1;32m     27\u001b[0m \u001b[38;5;28mprint\u001b[39m(df\u001b[38;5;241m.\u001b[39mshape[\u001b[38;5;241m0\u001b[39m], df[\u001b[38;5;124m'\u001b[39m\u001b[38;5;124mlabels\u001b[39m\u001b[38;5;124m'\u001b[39m]\u001b[38;5;241m.\u001b[39mnunique())\n\u001b[1;32m     28\u001b[0m \u001b[38;5;28mprint\u001b[39m(\u001b[38;5;124m'\u001b[39m\u001b[38;5;124m--->>>\u001b[39m\u001b[38;5;124m'\u001b[39m)\n",
      "\u001b[0;31mAssertionError\u001b[0m: (380822, 384183)"
     ]
    }
   ],
   "source": [
    "df = pd.read_csv('autodl-tmp/ori_data/rp2k/rp2k.csv')\n",
    "all_groups = []\n",
    "for label, group in tqdm(df.groupby('labels')):\n",
    "    if len(group)<5:\n",
    "        continue\n",
    "    group = group.reset_index(drop=True)\n",
    "    \n",
    "    for idx, row in group.iterrows():\n",
    "        path = row['image_files']\n",
    "        img = cv2.imread(path)\n",
    "        min_ = min(img.shape[:2])\n",
    "        max_ = max(img.shape[:2])\n",
    "        if min_>224:\n",
    "            img = cv2.resize(img, (224, 224), interpolation = cv2.INTER_AREA)\n",
    "        elif max_>224:\n",
    "            img = cv2.resize(img, (224, 224))\n",
    "        new_path = 'autodl-tmp/final_data_224/rp2k/images/'+path.split('/')[-1]\n",
    "        cv2.imwrite(new_path, img)\n",
    "        group.loc[idx, 'image_files'] = new_path\n",
    "    all_groups.append(group)\n",
    "\n",
    "df_n100_224 = pd.concat(all_groups, axis=0).reset_index(drop=True)\n",
    "df_n100_224.to_csv('autodl-tmp/final_data_224/rp2k/rp2k_final_224.csv', index=False)\n",
    "\n",
    "all_files = glob('autodl-tmp/final_data_224/rp2k/images/*')\n",
    "assert len(all_files)==df_n100_224.shape[0], (len(all_files), df_n100_224.shape[0])\n",
    "print(df.shape[0], df['labels'].nunique())\n",
    "print('--->>>')\n",
    "print(df_n100_224.shape[0], df_n100_224['labels'].nunique())\n",
    "df_n100_224.head(5)"
   ]
  },
  {
   "cell_type": "markdown",
   "id": "e61f5e15",
   "metadata": {},
   "source": [
    "### DeepFashion2 （hard-triplets）"
   ]
  },
  {
   "cell_type": "code",
   "execution_count": 30,
   "id": "82749094",
   "metadata": {
    "tags": []
   },
   "outputs": [],
   "source": [
    "from glob import glob\n",
    "import os\n",
    "import numpy as np\n",
    "import pandas as pd\n",
    "import cv2\n",
    "from tqdm import tqdm, trange\n",
    "import albumentations as A\n",
    "os.makedirs('autodl-tmp/final_data_224/DeepFashion2/images', exist_ok=True)"
   ]
  },
  {
   "cell_type": "code",
   "execution_count": 31,
   "id": "d5b67ff8",
   "metadata": {
    "tags": []
   },
   "outputs": [
    {
     "name": "stderr",
     "output_type": "stream",
     "text": [
      "100%|██████████| 30149/30149 [09:39<00:00, 52.04it/s] \n"
     ]
    },
    {
     "name": "stdout",
     "output_type": "stream",
     "text": [
      "180024 30149\n",
      "--->>>\n",
      "168887 22684 168887\n"
     ]
    },
    {
     "data": {
      "text/html": [
       "<div>\n",
       "<style scoped>\n",
       "    .dataframe tbody tr th:only-of-type {\n",
       "        vertical-align: middle;\n",
       "    }\n",
       "\n",
       "    .dataframe tbody tr th {\n",
       "        vertical-align: top;\n",
       "    }\n",
       "\n",
       "    .dataframe thead th {\n",
       "        text-align: right;\n",
       "    }\n",
       "</style>\n",
       "<table border=\"1\" class=\"dataframe\">\n",
       "  <thead>\n",
       "    <tr style=\"text-align: right;\">\n",
       "      <th></th>\n",
       "      <th>image_files</th>\n",
       "      <th>labels</th>\n",
       "    </tr>\n",
       "  </thead>\n",
       "  <tbody>\n",
       "    <tr>\n",
       "      <th>0</th>\n",
       "      <td>autodl-tmp/final_data_224/DeepFashion2/images/...</td>\n",
       "      <td>4</td>\n",
       "    </tr>\n",
       "    <tr>\n",
       "      <th>1</th>\n",
       "      <td>autodl-tmp/final_data_224/DeepFashion2/images/...</td>\n",
       "      <td>4</td>\n",
       "    </tr>\n",
       "    <tr>\n",
       "      <th>2</th>\n",
       "      <td>autodl-tmp/final_data_224/DeepFashion2/images/...</td>\n",
       "      <td>4</td>\n",
       "    </tr>\n",
       "    <tr>\n",
       "      <th>3</th>\n",
       "      <td>autodl-tmp/final_data_224/DeepFashion2/images/...</td>\n",
       "      <td>4</td>\n",
       "    </tr>\n",
       "    <tr>\n",
       "      <th>4</th>\n",
       "      <td>autodl-tmp/final_data_224/DeepFashion2/images/...</td>\n",
       "      <td>4</td>\n",
       "    </tr>\n",
       "  </tbody>\n",
       "</table>\n",
       "</div>"
      ],
      "text/plain": [
       "                                         image_files  labels\n",
       "0  autodl-tmp/final_data_224/DeepFashion2/images/...       4\n",
       "1  autodl-tmp/final_data_224/DeepFashion2/images/...       4\n",
       "2  autodl-tmp/final_data_224/DeepFashion2/images/...       4\n",
       "3  autodl-tmp/final_data_224/DeepFashion2/images/...       4\n",
       "4  autodl-tmp/final_data_224/DeepFashion2/images/...       4"
      ]
     },
     "execution_count": 31,
     "metadata": {},
     "output_type": "execute_result"
    }
   ],
   "source": [
    "df = pd.read_csv('autodl-tmp/ori_data/DeepFashion2/DeepFashion2.csv')\n",
    "all_groups = []\n",
    "n = 0\n",
    "for label, group in tqdm(df.groupby('labels')):\n",
    "    if len(group)<3:\n",
    "        continue\n",
    "    group = group.reset_index(drop=True)\n",
    "    \n",
    "    for idx, row in group.iterrows():\n",
    "        path = row['image_files']\n",
    "        img = cv2.imread(path)\n",
    "        min_ = min(img.shape[:2])\n",
    "        max_ = max(img.shape[:2])\n",
    "        if min_>224:\n",
    "            img = cv2.resize(img, (224, 224), interpolation = cv2.INTER_AREA)\n",
    "        elif max_>224:\n",
    "            img = cv2.resize(img, (224, 224))\n",
    "        new_path = f'autodl-tmp/final_data_224/DeepFashion2/images/{n}_'+path.split('/')[-1]\n",
    "        cv2.imwrite(new_path, img)\n",
    "        group.loc[idx, 'image_files'] = new_path\n",
    "        n+=1\n",
    "    all_groups.append(group)\n",
    "\n",
    "df_n100_224 = pd.concat(all_groups, axis=0).reset_index(drop=True)\n",
    "df_n100_224.to_csv('autodl-tmp/final_data_224/DeepFashion2/DeepFashion2_final_224.csv', index=False)\n",
    "\n",
    "all_files = glob('autodl-tmp/final_data_224/DeepFashion2/images/*')\n",
    "assert len(all_files)==df_n100_224.shape[0], (len(all_files), df_n100_224.shape[0])\n",
    "print(df.shape[0], df['labels'].nunique())\n",
    "print('--->>>')\n",
    "print(df_n100_224.shape[0], df_n100_224['labels'].nunique(), df_n100_224['image_files'].nunique())\n",
    "df_n100_224.head(5)"
   ]
  },
  {
   "cell_type": "code",
   "execution_count": null,
   "id": "a5d600cc",
   "metadata": {},
   "outputs": [],
   "source": []
  },
  {
   "cell_type": "code",
   "execution_count": null,
   "id": "1a081c7b",
   "metadata": {},
   "outputs": [],
   "source": []
  }
 ],
 "metadata": {
  "kernelspec": {
   "display_name": "Python 3 (ipykernel)",
   "language": "python",
   "name": "python3"
  },
  "language_info": {
   "codemirror_mode": {
    "name": "ipython",
    "version": 3
   },
   "file_extension": ".py",
   "mimetype": "text/x-python",
   "name": "python",
   "nbconvert_exporter": "python",
   "pygments_lexer": "ipython3",
   "version": "3.8.13"
  }
 },
 "nbformat": 4,
 "nbformat_minor": 5
}
