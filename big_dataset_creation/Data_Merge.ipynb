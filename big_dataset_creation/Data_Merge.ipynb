{
 "cells": [
  {
   "cell_type": "markdown",
   "id": "fb011a6c-4fac-42c2-a270-36a0705070a9",
   "metadata": {},
   "source": [
    "# Data Merge"
   ]
  },
  {
   "cell_type": "code",
   "execution_count": 1,
   "id": "9f787e0a-ad4d-4c69-8f33-99e87c8b8f88",
   "metadata": {},
   "outputs": [
    {
     "data": {
      "text/html": [
       "<div>\n",
       "<style scoped>\n",
       "    .dataframe tbody tr th:only-of-type {\n",
       "        vertical-align: middle;\n",
       "    }\n",
       "\n",
       "    .dataframe tbody tr th {\n",
       "        vertical-align: top;\n",
       "    }\n",
       "\n",
       "    .dataframe thead th {\n",
       "        text-align: right;\n",
       "    }\n",
       "</style>\n",
       "<table border=\"1\" class=\"dataframe\">\n",
       "  <thead>\n",
       "    <tr style=\"text-align: right;\">\n",
       "      <th></th>\n",
       "      <th>image_files</th>\n",
       "      <th>labels</th>\n",
       "    </tr>\n",
       "  </thead>\n",
       "  <tbody>\n",
       "    <tr>\n",
       "      <th>0</th>\n",
       "      <td>final_data_224/rp2k/images/0430_16363.jpg</td>\n",
       "      <td>0</td>\n",
       "    </tr>\n",
       "  </tbody>\n",
       "</table>\n",
       "</div>"
      ],
      "text/plain": [
       "                                 image_files  labels\n",
       "0  final_data_224/rp2k/images/0430_16363.jpg       0"
      ]
     },
     "metadata": {},
     "output_type": "display_data"
    },
    {
     "data": {
      "text/html": [
       "<div>\n",
       "<style scoped>\n",
       "    .dataframe tbody tr th:only-of-type {\n",
       "        vertical-align: middle;\n",
       "    }\n",
       "\n",
       "    .dataframe tbody tr th {\n",
       "        vertical-align: top;\n",
       "    }\n",
       "\n",
       "    .dataframe thead th {\n",
       "        text-align: right;\n",
       "    }\n",
       "</style>\n",
       "<table border=\"1\" class=\"dataframe\">\n",
       "  <thead>\n",
       "    <tr style=\"text-align: right;\">\n",
       "      <th></th>\n",
       "      <th>name</th>\n",
       "      <th>class</th>\n",
       "      <th>group</th>\n",
       "    </tr>\n",
       "  </thead>\n",
       "  <tbody>\n",
       "    <tr>\n",
       "      <th>0</th>\n",
       "      <td>1.jpg</td>\n",
       "      <td>0</td>\n",
       "      <td>0</td>\n",
       "    </tr>\n",
       "  </tbody>\n",
       "</table>\n",
       "</div>"
      ],
      "text/plain": [
       "    name  class  group\n",
       "0  1.jpg      0      0"
      ]
     },
     "metadata": {},
     "output_type": "display_data"
    },
    {
     "data": {
      "text/html": [
       "<div>\n",
       "<style scoped>\n",
       "    .dataframe tbody tr th:only-of-type {\n",
       "        vertical-align: middle;\n",
       "    }\n",
       "\n",
       "    .dataframe tbody tr th {\n",
       "        vertical-align: top;\n",
       "    }\n",
       "\n",
       "    .dataframe thead th {\n",
       "        text-align: right;\n",
       "    }\n",
       "</style>\n",
       "<table border=\"1\" class=\"dataframe\">\n",
       "  <thead>\n",
       "    <tr style=\"text-align: right;\">\n",
       "      <th></th>\n",
       "      <th>posting_id</th>\n",
       "      <th>image</th>\n",
       "      <th>image_phash</th>\n",
       "      <th>title</th>\n",
       "      <th>label_group</th>\n",
       "    </tr>\n",
       "  </thead>\n",
       "  <tbody>\n",
       "    <tr>\n",
       "      <th>0</th>\n",
       "      <td>train_1646767365</td>\n",
       "      <td>1d7aadc7503b2b4539cc9a5fe41979dd.jpg</td>\n",
       "      <td>e925873ed09cd08f</td>\n",
       "      <td>Sarung celana wadimor original 100% dewasa dan...</td>\n",
       "      <td>258047</td>\n",
       "    </tr>\n",
       "  </tbody>\n",
       "</table>\n",
       "</div>"
      ],
      "text/plain": [
       "         posting_id                                 image       image_phash  \\\n",
       "0  train_1646767365  1d7aadc7503b2b4539cc9a5fe41979dd.jpg  e925873ed09cd08f   \n",
       "\n",
       "                                               title  label_group  \n",
       "0  Sarung celana wadimor original 100% dewasa dan...       258047  "
      ]
     },
     "metadata": {},
     "output_type": "display_data"
    },
    {
     "data": {
      "text/html": [
       "<div>\n",
       "<style scoped>\n",
       "    .dataframe tbody tr th:only-of-type {\n",
       "        vertical-align: middle;\n",
       "    }\n",
       "\n",
       "    .dataframe tbody tr th {\n",
       "        vertical-align: top;\n",
       "    }\n",
       "\n",
       "    .dataframe thead th {\n",
       "        text-align: right;\n",
       "    }\n",
       "</style>\n",
       "<table border=\"1\" class=\"dataframe\">\n",
       "  <thead>\n",
       "    <tr style=\"text-align: right;\">\n",
       "      <th></th>\n",
       "      <th>image_files</th>\n",
       "      <th>labels</th>\n",
       "    </tr>\n",
       "  </thead>\n",
       "  <tbody>\n",
       "    <tr>\n",
       "      <th>0</th>\n",
       "      <td>final_data_224/grocery_dataset/images/valPinea...</td>\n",
       "      <td>0</td>\n",
       "    </tr>\n",
       "  </tbody>\n",
       "</table>\n",
       "</div>"
      ],
      "text/plain": [
       "                                         image_files  labels\n",
       "0  final_data_224/grocery_dataset/images/valPinea...       0"
      ]
     },
     "metadata": {},
     "output_type": "display_data"
    },
    {
     "data": {
      "text/html": [
       "<div>\n",
       "<style scoped>\n",
       "    .dataframe tbody tr th:only-of-type {\n",
       "        vertical-align: middle;\n",
       "    }\n",
       "\n",
       "    .dataframe tbody tr th {\n",
       "        vertical-align: top;\n",
       "    }\n",
       "\n",
       "    .dataframe thead th {\n",
       "        text-align: right;\n",
       "    }\n",
       "</style>\n",
       "<table border=\"1\" class=\"dataframe\">\n",
       "  <thead>\n",
       "    <tr style=\"text-align: right;\">\n",
       "      <th></th>\n",
       "      <th>image_files</th>\n",
       "      <th>labels</th>\n",
       "    </tr>\n",
       "  </thead>\n",
       "  <tbody>\n",
       "    <tr>\n",
       "      <th>0</th>\n",
       "      <td>final_data_224/deepFashion/images/f_0_0_comsum...</td>\n",
       "      <td>0</td>\n",
       "    </tr>\n",
       "  </tbody>\n",
       "</table>\n",
       "</div>"
      ],
      "text/plain": [
       "                                         image_files  labels\n",
       "0  final_data_224/deepFashion/images/f_0_0_comsum...       0"
      ]
     },
     "metadata": {},
     "output_type": "display_data"
    },
    {
     "data": {
      "text/html": [
       "<div>\n",
       "<style scoped>\n",
       "    .dataframe tbody tr th:only-of-type {\n",
       "        vertical-align: middle;\n",
       "    }\n",
       "\n",
       "    .dataframe tbody tr th {\n",
       "        vertical-align: top;\n",
       "    }\n",
       "\n",
       "    .dataframe thead th {\n",
       "        text-align: right;\n",
       "    }\n",
       "</style>\n",
       "<table border=\"1\" class=\"dataframe\">\n",
       "  <thead>\n",
       "    <tr style=\"text-align: right;\">\n",
       "      <th></th>\n",
       "      <th>image_files</th>\n",
       "      <th>labels</th>\n",
       "    </tr>\n",
       "  </thead>\n",
       "  <tbody>\n",
       "    <tr>\n",
       "      <th>0</th>\n",
       "      <td>final_data_224/DeepFashion2/images/0_026006.jpg</td>\n",
       "      <td>0</td>\n",
       "    </tr>\n",
       "  </tbody>\n",
       "</table>\n",
       "</div>"
      ],
      "text/plain": [
       "                                       image_files  labels\n",
       "0  final_data_224/DeepFashion2/images/0_026006.jpg       0"
      ]
     },
     "metadata": {},
     "output_type": "display_data"
    },
    {
     "data": {
      "text/html": [
       "<div>\n",
       "<style scoped>\n",
       "    .dataframe tbody tr th:only-of-type {\n",
       "        vertical-align: middle;\n",
       "    }\n",
       "\n",
       "    .dataframe tbody tr th {\n",
       "        vertical-align: top;\n",
       "    }\n",
       "\n",
       "    .dataframe thead th {\n",
       "        text-align: right;\n",
       "    }\n",
       "</style>\n",
       "<table border=\"1\" class=\"dataframe\">\n",
       "  <thead>\n",
       "    <tr style=\"text-align: right;\">\n",
       "      <th></th>\n",
       "      <th>image_files</th>\n",
       "      <th>labels</th>\n",
       "    </tr>\n",
       "  </thead>\n",
       "  <tbody>\n",
       "    <tr>\n",
       "      <th>0</th>\n",
       "      <td>final_data_224/Fashion_200K/images/denim_jacke...</td>\n",
       "      <td>2388</td>\n",
       "    </tr>\n",
       "  </tbody>\n",
       "</table>\n",
       "</div>"
      ],
      "text/plain": [
       "                                         image_files  labels\n",
       "0  final_data_224/Fashion_200K/images/denim_jacke...    2388"
      ]
     },
     "metadata": {},
     "output_type": "display_data"
    },
    {
     "data": {
      "text/html": [
       "<div>\n",
       "<style scoped>\n",
       "    .dataframe tbody tr th:only-of-type {\n",
       "        vertical-align: middle;\n",
       "    }\n",
       "\n",
       "    .dataframe tbody tr th {\n",
       "        vertical-align: top;\n",
       "    }\n",
       "\n",
       "    .dataframe thead th {\n",
       "        text-align: right;\n",
       "    }\n",
       "</style>\n",
       "<table border=\"1\" class=\"dataframe\">\n",
       "  <thead>\n",
       "    <tr style=\"text-align: right;\">\n",
       "      <th></th>\n",
       "      <th>image_files</th>\n",
       "      <th>labels</th>\n",
       "    </tr>\n",
       "  </thead>\n",
       "  <tbody>\n",
       "    <tr>\n",
       "      <th>0</th>\n",
       "      <td>final_data_224/Stanford_Products/images/coffee...</td>\n",
       "      <td>0</td>\n",
       "    </tr>\n",
       "  </tbody>\n",
       "</table>\n",
       "</div>"
      ],
      "text/plain": [
       "                                         image_files  labels\n",
       "0  final_data_224/Stanford_Products/images/coffee...       0"
      ]
     },
     "metadata": {},
     "output_type": "display_data"
    }
   ],
   "source": [
    "from glob import glob\n",
    "import os\n",
    "import pandas as pd\n",
    "import numpy as np\n",
    "from tqdm import tqdm, trange\n",
    "import cv2\n",
    "\n",
    "df1 = pd.read_csv('final_data_224/rp2k/rp2k_final_224.csv')\n",
    "df2 = pd.read_csv('final_data_224/Products10K/products10K_final_224.csv')\n",
    "df3 = pd.read_csv('final_data_224/Shopee/Shopee_final_224.csv')\n",
    "df4 = pd.read_csv('final_data_224/grocery_dataset/grocery_dataset_final_224.csv')\n",
    "df5 = pd.read_csv('final_data_224/deepFashion/DeepFashion_final_224.csv')\n",
    "df6 = pd.read_csv('final_data_224/DeepFashion2/DeepFashion2_final_224.csv')\n",
    "df7 = pd.read_csv('final_data_224/Fashion_200K/Fashion_200K_final_224.csv')\n",
    "df8 = pd.read_csv('final_data_224/Stanford_Products/Stanford_Products_final_224.csv')\n",
    "display(df1.head(1))\n",
    "display(df2.head(1))\n",
    "display(df3.head(1))\n",
    "display(df4.head(1))\n",
    "display(df5.head(1))\n",
    "display(df6.head(1))\n",
    "display(df7.head(1))\n",
    "display(df8.head(1))\n"
   ]
  },
  {
   "cell_type": "code",
   "execution_count": 2,
   "id": "c2735b1e-5365-46a5-8b2d-9366b5e32775",
   "metadata": {},
   "outputs": [
    {
     "name": "stdout",
     "output_type": "stream",
     "text": [
      "2348\n",
      "7907\n",
      "3734\n",
      "27\n",
      "15\n",
      "13\n",
      "31\n",
      "12\n"
     ]
    }
   ],
   "source": [
    "df1_labels = df1['labels'].unique()\n",
    "df2_labels = df2['class'].unique()\n",
    "df3_labels = df3['label_group'].unique()\n",
    "df4_labels = df4['labels'].unique()\n",
    "df5_labels = df5['labels'].unique()\n",
    "df6_labels = df6['labels'].unique()\n",
    "df7_labels = df7['labels'].unique()\n",
    "df8_labels = df8['labels'].unique()\n",
    "\n",
    "df1[['new_image_files', 'new_labels']] = [0,0]\n",
    "df2[['new_image_files', 'new_labels']] = [0,0]\n",
    "df3[['new_image_files', 'new_labels']] = [0,0]\n",
    "df4[['new_image_files', 'new_labels']] = [0,0]\n",
    "df5[['new_image_files', 'new_labels']] = [0,0]\n",
    "df6[['new_image_files', 'new_labels']] = [0,0]\n",
    "df7[['new_image_files', 'new_labels']] = [0,0]\n",
    "df8[['new_image_files', 'new_labels']] = [0,0]\n",
    "\n",
    "print(len(df1_labels))\n",
    "print(len(df2_labels))\n",
    "print(len(df3_labels))\n",
    "print(len(df4_labels))\n",
    "print(len(df5_labels))\n",
    "print(len(df6_labels))\n",
    "print(len(df7_labels))\n",
    "print(len(df8_labels))"
   ]
  },
  {
   "cell_type": "markdown",
   "id": "bf063fe7-6787-4587-b235-6acc64f54fe7",
   "metadata": {},
   "source": [
    "* rp2k"
   ]
  },
  {
   "cell_type": "code",
   "execution_count": 3,
   "id": "93298e4d-0beb-400f-8e4a-eff203e567f8",
   "metadata": {},
   "outputs": [
    {
     "name": "stderr",
     "output_type": "stream",
     "text": [
      "100%|█████████████████████████████████| 384183/384183 [00:58<00:00, 6575.41it/s]\n"
     ]
    },
    {
     "data": {
      "text/html": [
       "<div>\n",
       "<style scoped>\n",
       "    .dataframe tbody tr th:only-of-type {\n",
       "        vertical-align: middle;\n",
       "    }\n",
       "\n",
       "    .dataframe tbody tr th {\n",
       "        vertical-align: top;\n",
       "    }\n",
       "\n",
       "    .dataframe thead th {\n",
       "        text-align: right;\n",
       "    }\n",
       "</style>\n",
       "<table border=\"1\" class=\"dataframe\">\n",
       "  <thead>\n",
       "    <tr style=\"text-align: right;\">\n",
       "      <th></th>\n",
       "      <th>new_image_files</th>\n",
       "      <th>new_labels</th>\n",
       "    </tr>\n",
       "  </thead>\n",
       "  <tbody>\n",
       "    <tr>\n",
       "      <th>0</th>\n",
       "      <td>final_data_224/rp2k/images/0430_16363.jpg</td>\n",
       "      <td>0</td>\n",
       "    </tr>\n",
       "  </tbody>\n",
       "</table>\n",
       "</div>"
      ],
      "text/plain": [
       "                             new_image_files  new_labels\n",
       "0  final_data_224/rp2k/images/0430_16363.jpg           0"
      ]
     },
     "execution_count": 3,
     "metadata": {},
     "output_type": "execute_result"
    }
   ],
   "source": [
    "PATH = 'final_data_224/rp2k/images'\n",
    "label_count = 0\n",
    "\n",
    "for i in trange(len(df1)):\n",
    "    new_path = df1.loc[i, 'image_files']\n",
    "    df1.loc[i, 'new_image_files'] = new_path\n",
    "    df1.loc[i, 'new_labels'] = np.argwhere(df1_labels==df1.loc[i, 'labels'])[0,0]+label_count\n",
    "img = cv2.imread(df1.loc[0, 'new_image_files'])\n",
    "df1.drop(columns=['image_files', 'labels'], inplace=True)\n",
    "df1.head(1)"
   ]
  },
  {
   "cell_type": "markdown",
   "id": "e2540864-95a4-4a4c-9047-2ee5fdcba51c",
   "metadata": {},
   "source": [
    "* JD_Products_10K"
   ]
  },
  {
   "cell_type": "code",
   "execution_count": 4,
   "id": "2a2c6fad-05a4-4808-beb6-a63c0f02bcad",
   "metadata": {},
   "outputs": [
    {
     "name": "stderr",
     "output_type": "stream",
     "text": [
      "100%|█████████████████████████████████| 135670/135670 [00:21<00:00, 6284.50it/s]\n"
     ]
    },
    {
     "data": {
      "text/html": [
       "<div>\n",
       "<style scoped>\n",
       "    .dataframe tbody tr th:only-of-type {\n",
       "        vertical-align: middle;\n",
       "    }\n",
       "\n",
       "    .dataframe tbody tr th {\n",
       "        vertical-align: top;\n",
       "    }\n",
       "\n",
       "    .dataframe thead th {\n",
       "        text-align: right;\n",
       "    }\n",
       "</style>\n",
       "<table border=\"1\" class=\"dataframe\">\n",
       "  <thead>\n",
       "    <tr style=\"text-align: right;\">\n",
       "      <th></th>\n",
       "      <th>new_image_files</th>\n",
       "      <th>new_labels</th>\n",
       "    </tr>\n",
       "  </thead>\n",
       "  <tbody>\n",
       "    <tr>\n",
       "      <th>0</th>\n",
       "      <td>final_data_224/Products10K/images/1.jpg</td>\n",
       "      <td>2348</td>\n",
       "    </tr>\n",
       "  </tbody>\n",
       "</table>\n",
       "</div>"
      ],
      "text/plain": [
       "                           new_image_files  new_labels\n",
       "0  final_data_224/Products10K/images/1.jpg        2348"
      ]
     },
     "execution_count": 4,
     "metadata": {},
     "output_type": "execute_result"
    }
   ],
   "source": [
    "PATH = 'final_data_224/Products10K/images'\n",
    "label_count = len(df1_labels)\n",
    "\n",
    "for i in trange(len(df2)):\n",
    "    path = os.path.join(PATH, df2.loc[i, 'name'])\n",
    "    df2.loc[i, 'new_image_files'] = path\n",
    "    df2.loc[i, 'new_labels'] = np.argwhere(df2_labels==df2.loc[i, 'class'])[0,0]+label_count\n",
    "img = cv2.imread(df2.loc[0, 'new_image_files'])\n",
    "df2.drop(columns=['name', 'class', 'group'], inplace=True)\n",
    "df2.head(1)"
   ]
  },
  {
   "cell_type": "markdown",
   "id": "9015cd84-a156-4628-bc8f-4de65440d80f",
   "metadata": {},
   "source": [
    "* Shopee"
   ]
  },
  {
   "cell_type": "code",
   "execution_count": 5,
   "id": "93da2482-8416-4357-9c1a-a18fae49c5c4",
   "metadata": {},
   "outputs": [
    {
     "name": "stderr",
     "output_type": "stream",
     "text": [
      "100%|███████████████████████████████████| 17868/17868 [00:02<00:00, 6236.97it/s]\n"
     ]
    },
    {
     "data": {
      "text/html": [
       "<div>\n",
       "<style scoped>\n",
       "    .dataframe tbody tr th:only-of-type {\n",
       "        vertical-align: middle;\n",
       "    }\n",
       "\n",
       "    .dataframe tbody tr th {\n",
       "        vertical-align: top;\n",
       "    }\n",
       "\n",
       "    .dataframe thead th {\n",
       "        text-align: right;\n",
       "    }\n",
       "</style>\n",
       "<table border=\"1\" class=\"dataframe\">\n",
       "  <thead>\n",
       "    <tr style=\"text-align: right;\">\n",
       "      <th></th>\n",
       "      <th>new_image_files</th>\n",
       "      <th>new_labels</th>\n",
       "    </tr>\n",
       "  </thead>\n",
       "  <tbody>\n",
       "    <tr>\n",
       "      <th>0</th>\n",
       "      <td>final_data_224/Shopee/images/1d7aadc7503b2b453...</td>\n",
       "      <td>10255</td>\n",
       "    </tr>\n",
       "  </tbody>\n",
       "</table>\n",
       "</div>"
      ],
      "text/plain": [
       "                                     new_image_files  new_labels\n",
       "0  final_data_224/Shopee/images/1d7aadc7503b2b453...       10255"
      ]
     },
     "execution_count": 5,
     "metadata": {},
     "output_type": "execute_result"
    }
   ],
   "source": [
    "PATH = 'final_data_224/Shopee/images'\n",
    "label_count = len(df1_labels)+len(df2_labels)\n",
    "\n",
    "for i in trange(len(df3)):\n",
    "    path = os.path.join(PATH,df3.loc[i, 'image'])\n",
    "    df3.loc[i, 'new_image_files'] = path\n",
    "    df3.loc[i, 'new_labels'] = np.argwhere(df3_labels==df3.loc[i, 'label_group'])[0,0]+label_count\n",
    "img = cv2.imread(df3.loc[0, 'new_image_files'])\n",
    "df3.drop(columns=['posting_id', 'image','image_phash', 'title', 'label_group'], inplace=True)\n",
    "df3.head(1)"
   ]
  },
  {
   "cell_type": "markdown",
   "id": "93fc29cb-b767-4ecc-bade-04eb8a5b21e6",
   "metadata": {},
   "source": [
    "* Grocery dataset"
   ]
  },
  {
   "cell_type": "code",
   "execution_count": 6,
   "id": "8e733c54-8ebe-4aca-a8a8-e77ffc17f5b2",
   "metadata": {},
   "outputs": [
    {
     "name": "stderr",
     "output_type": "stream",
     "text": [
      "100%|█████████████████████████████████████| 1824/1824 [00:00<00:00, 6386.57it/s]\n"
     ]
    },
    {
     "data": {
      "text/html": [
       "<div>\n",
       "<style scoped>\n",
       "    .dataframe tbody tr th:only-of-type {\n",
       "        vertical-align: middle;\n",
       "    }\n",
       "\n",
       "    .dataframe tbody tr th {\n",
       "        vertical-align: top;\n",
       "    }\n",
       "\n",
       "    .dataframe thead th {\n",
       "        text-align: right;\n",
       "    }\n",
       "</style>\n",
       "<table border=\"1\" class=\"dataframe\">\n",
       "  <thead>\n",
       "    <tr style=\"text-align: right;\">\n",
       "      <th></th>\n",
       "      <th>new_image_files</th>\n",
       "      <th>new_labels</th>\n",
       "    </tr>\n",
       "  </thead>\n",
       "  <tbody>\n",
       "    <tr>\n",
       "      <th>0</th>\n",
       "      <td>final_data_224/grocery_dataset/images/valPinea...</td>\n",
       "      <td>13989</td>\n",
       "    </tr>\n",
       "  </tbody>\n",
       "</table>\n",
       "</div>"
      ],
      "text/plain": [
       "                                     new_image_files  new_labels\n",
       "0  final_data_224/grocery_dataset/images/valPinea...       13989"
      ]
     },
     "execution_count": 6,
     "metadata": {},
     "output_type": "execute_result"
    }
   ],
   "source": [
    "label_count = len(df1_labels)+len(df2_labels)+len(df3_labels)\n",
    "\n",
    "for i in trange(len(df4)):\n",
    "    new_path = df4.loc[i, 'image_files']\n",
    "    df4.loc[i, 'new_image_files'] = new_path\n",
    "    df4.loc[i, 'new_labels'] = np.argwhere(df4_labels==df4.loc[i, 'labels'])[0,0]+label_count\n",
    "img = cv2.imread(df4.loc[0, 'new_image_files'])\n",
    "df4.drop(columns=['image_files', 'labels'], inplace=True)\n",
    "df4.head(1)"
   ]
  },
  {
   "cell_type": "markdown",
   "id": "6f9686ad-3633-44c4-9c93-5a64c6a514e9",
   "metadata": {},
   "source": [
    "* DeepFashion_CTS"
   ]
  },
  {
   "cell_type": "code",
   "execution_count": 7,
   "id": "9cec814a-0af4-408b-9ac2-4d4f02b93cf3",
   "metadata": {},
   "outputs": [
    {
     "name": "stderr",
     "output_type": "stream",
     "text": [
      "100%|█████████████████████████████████| 180853/180853 [00:27<00:00, 6607.22it/s]\n"
     ]
    },
    {
     "data": {
      "text/html": [
       "<div>\n",
       "<style scoped>\n",
       "    .dataframe tbody tr th:only-of-type {\n",
       "        vertical-align: middle;\n",
       "    }\n",
       "\n",
       "    .dataframe tbody tr th {\n",
       "        vertical-align: top;\n",
       "    }\n",
       "\n",
       "    .dataframe thead th {\n",
       "        text-align: right;\n",
       "    }\n",
       "</style>\n",
       "<table border=\"1\" class=\"dataframe\">\n",
       "  <thead>\n",
       "    <tr style=\"text-align: right;\">\n",
       "      <th></th>\n",
       "      <th>new_image_files</th>\n",
       "      <th>new_labels</th>\n",
       "    </tr>\n",
       "  </thead>\n",
       "  <tbody>\n",
       "    <tr>\n",
       "      <th>0</th>\n",
       "      <td>final_data_224/deepFashion/images/f_0_0_comsum...</td>\n",
       "      <td>14016</td>\n",
       "    </tr>\n",
       "  </tbody>\n",
       "</table>\n",
       "</div>"
      ],
      "text/plain": [
       "                                     new_image_files  new_labels\n",
       "0  final_data_224/deepFashion/images/f_0_0_comsum...       14016"
      ]
     },
     "execution_count": 7,
     "metadata": {},
     "output_type": "execute_result"
    }
   ],
   "source": [
    "label_count = len(df1_labels)+len(df2_labels)+len(df3_labels)+len(df4_labels)\n",
    "\n",
    "for i in trange(len(df5)):\n",
    "    new_path = df5.loc[i, 'image_files']\n",
    "    df5.loc[i, 'new_image_files'] = new_path\n",
    "    df5.loc[i, 'new_labels'] = np.argwhere(df5_labels==df5.loc[i, 'labels'])[0,0]+label_count\n",
    "img = cv2.imread(df5.loc[0, 'new_image_files'])\n",
    "df5.drop(columns=['image_files', 'labels'], inplace=True)\n",
    "df5.head(1)"
   ]
  },
  {
   "cell_type": "markdown",
   "id": "1a85a20a-fe00-4553-82e9-b0dff8b9bd41",
   "metadata": {},
   "source": [
    "* DeepFashion2"
   ]
  },
  {
   "cell_type": "code",
   "execution_count": 8,
   "id": "0176b9e9-cd13-48c2-a367-f41e18893e55",
   "metadata": {},
   "outputs": [
    {
     "name": "stderr",
     "output_type": "stream",
     "text": [
      "100%|█████████████████████████████████| 180024/180024 [00:27<00:00, 6584.70it/s]\n"
     ]
    },
    {
     "data": {
      "text/html": [
       "<div>\n",
       "<style scoped>\n",
       "    .dataframe tbody tr th:only-of-type {\n",
       "        vertical-align: middle;\n",
       "    }\n",
       "\n",
       "    .dataframe tbody tr th {\n",
       "        vertical-align: top;\n",
       "    }\n",
       "\n",
       "    .dataframe thead th {\n",
       "        text-align: right;\n",
       "    }\n",
       "</style>\n",
       "<table border=\"1\" class=\"dataframe\">\n",
       "  <thead>\n",
       "    <tr style=\"text-align: right;\">\n",
       "      <th></th>\n",
       "      <th>new_image_files</th>\n",
       "      <th>new_labels</th>\n",
       "    </tr>\n",
       "  </thead>\n",
       "  <tbody>\n",
       "    <tr>\n",
       "      <th>0</th>\n",
       "      <td>final_data_224/DeepFashion2/images/0_026006.jpg</td>\n",
       "      <td>14031</td>\n",
       "    </tr>\n",
       "  </tbody>\n",
       "</table>\n",
       "</div>"
      ],
      "text/plain": [
       "                                   new_image_files  new_labels\n",
       "0  final_data_224/DeepFashion2/images/0_026006.jpg       14031"
      ]
     },
     "execution_count": 8,
     "metadata": {},
     "output_type": "execute_result"
    }
   ],
   "source": [
    "label_count = len(df1_labels)+len(df2_labels)+len(df3_labels)+len(df4_labels)+len(df5_labels)\n",
    "\n",
    "for i in trange(len(df6)):\n",
    "    new_path = df6.loc[i, 'image_files']\n",
    "    df6.loc[i, 'new_image_files'] = new_path\n",
    "    df6.loc[i, 'new_labels'] = np.argwhere(df6_labels==df6.loc[i, 'labels'])[0,0]+label_count\n",
    "img = cv2.imread(df6.loc[0, 'new_image_files'])\n",
    "df6.drop(columns=['image_files', 'labels'], inplace=True)\n",
    "df6.head(1)"
   ]
  },
  {
   "cell_type": "markdown",
   "id": "9a86e7ed-e6f6-4b34-848a-6e71c37a5434",
   "metadata": {},
   "source": [
    "* Fashion200K"
   ]
  },
  {
   "cell_type": "code",
   "execution_count": 9,
   "id": "5d6afba1-3223-4eaa-a156-ebedc6916a17",
   "metadata": {},
   "outputs": [
    {
     "name": "stderr",
     "output_type": "stream",
     "text": [
      "100%|█████████████████████████████████| 338339/338339 [00:51<00:00, 6606.65it/s]\n"
     ]
    },
    {
     "data": {
      "text/html": [
       "<div>\n",
       "<style scoped>\n",
       "    .dataframe tbody tr th:only-of-type {\n",
       "        vertical-align: middle;\n",
       "    }\n",
       "\n",
       "    .dataframe tbody tr th {\n",
       "        vertical-align: top;\n",
       "    }\n",
       "\n",
       "    .dataframe thead th {\n",
       "        text-align: right;\n",
       "    }\n",
       "</style>\n",
       "<table border=\"1\" class=\"dataframe\">\n",
       "  <thead>\n",
       "    <tr style=\"text-align: right;\">\n",
       "      <th></th>\n",
       "      <th>new_image_files</th>\n",
       "      <th>new_labels</th>\n",
       "    </tr>\n",
       "  </thead>\n",
       "  <tbody>\n",
       "    <tr>\n",
       "      <th>0</th>\n",
       "      <td>final_data_224/Fashion_200K/images/denim_jacke...</td>\n",
       "      <td>14044</td>\n",
       "    </tr>\n",
       "  </tbody>\n",
       "</table>\n",
       "</div>"
      ],
      "text/plain": [
       "                                     new_image_files  new_labels\n",
       "0  final_data_224/Fashion_200K/images/denim_jacke...       14044"
      ]
     },
     "execution_count": 9,
     "metadata": {},
     "output_type": "execute_result"
    }
   ],
   "source": [
    "label_count = len(df1_labels)+len(df2_labels)+len(df3_labels)+len(df4_labels)+len(df5_labels)+ \\\n",
    "len(df6_labels)\n",
    "\n",
    "for i in trange(len(df7)):\n",
    "    new_path = df7.loc[i, 'image_files']\n",
    "    df7.loc[i, 'new_image_files'] = new_path\n",
    "    df7.loc[i, 'new_labels'] = np.argwhere(df7_labels==df7.loc[i, 'labels'])[0,0]+label_count\n",
    "img = cv2.imread(df7.loc[0, 'new_image_files'])\n",
    "df7.drop(columns=['image_files', 'labels'], inplace=True)\n",
    "df7.head(1)"
   ]
  },
  {
   "cell_type": "markdown",
   "id": "2f7aba1a-8017-47a6-af62-f7863c88ce85",
   "metadata": {},
   "source": [
    "* Standford_Product"
   ]
  },
  {
   "cell_type": "code",
   "execution_count": 10,
   "id": "65e3ddc6-b9ff-459e-bf45-25e8aeb9643d",
   "metadata": {},
   "outputs": [
    {
     "name": "stderr",
     "output_type": "stream",
     "text": [
      "100%|█████████████████████████████████| 120053/120053 [00:18<00:00, 6652.61it/s]\n"
     ]
    },
    {
     "data": {
      "text/html": [
       "<div>\n",
       "<style scoped>\n",
       "    .dataframe tbody tr th:only-of-type {\n",
       "        vertical-align: middle;\n",
       "    }\n",
       "\n",
       "    .dataframe tbody tr th {\n",
       "        vertical-align: top;\n",
       "    }\n",
       "\n",
       "    .dataframe thead th {\n",
       "        text-align: right;\n",
       "    }\n",
       "</style>\n",
       "<table border=\"1\" class=\"dataframe\">\n",
       "  <thead>\n",
       "    <tr style=\"text-align: right;\">\n",
       "      <th></th>\n",
       "      <th>new_image_files</th>\n",
       "      <th>new_labels</th>\n",
       "    </tr>\n",
       "  </thead>\n",
       "  <tbody>\n",
       "    <tr>\n",
       "      <th>0</th>\n",
       "      <td>final_data_224/Stanford_Products/images/coffee...</td>\n",
       "      <td>14075</td>\n",
       "    </tr>\n",
       "  </tbody>\n",
       "</table>\n",
       "</div>"
      ],
      "text/plain": [
       "                                     new_image_files  new_labels\n",
       "0  final_data_224/Stanford_Products/images/coffee...       14075"
      ]
     },
     "execution_count": 10,
     "metadata": {},
     "output_type": "execute_result"
    }
   ],
   "source": [
    "label_count = len(df1_labels)+len(df2_labels)+len(df3_labels)+len(df4_labels)+len(df5_labels)+len(df6_labels)+ \\\n",
    "len(df7_labels)\n",
    "\n",
    "for i in trange(len(df8)):\n",
    "    new_path = df8.loc[i, 'image_files']\n",
    "    df8.loc[i, 'new_image_files'] = new_path\n",
    "    df8.loc[i, 'new_labels'] = np.argwhere(df8_labels==df8.loc[i, 'labels'])[0,0]+label_count\n",
    "img = cv2.imread(df8.loc[0, 'new_image_files'])\n",
    "df8.drop(columns=['image_files', 'labels'], inplace=True)\n",
    "df8.head(1)"
   ]
  },
  {
   "cell_type": "markdown",
   "id": "8acf3957-3d62-4e13-990e-08fc7df94ae6",
   "metadata": {},
   "source": [
    "### Merge"
   ]
  },
  {
   "cell_type": "code",
   "execution_count": 11,
   "id": "baeb3c1a-69e5-480d-aa59-e0e87ad888b6",
   "metadata": {},
   "outputs": [
    {
     "name": "stdout",
     "output_type": "stream",
     "text": [
      "1358814 14087\n"
     ]
    },
    {
     "data": {
      "text/html": [
       "<div>\n",
       "<style scoped>\n",
       "    .dataframe tbody tr th:only-of-type {\n",
       "        vertical-align: middle;\n",
       "    }\n",
       "\n",
       "    .dataframe tbody tr th {\n",
       "        vertical-align: top;\n",
       "    }\n",
       "\n",
       "    .dataframe thead th {\n",
       "        text-align: right;\n",
       "    }\n",
       "</style>\n",
       "<table border=\"1\" class=\"dataframe\">\n",
       "  <thead>\n",
       "    <tr style=\"text-align: right;\">\n",
       "      <th></th>\n",
       "      <th>new_image_files</th>\n",
       "      <th>new_labels</th>\n",
       "    </tr>\n",
       "  </thead>\n",
       "  <tbody>\n",
       "    <tr>\n",
       "      <th>0</th>\n",
       "      <td>final_data_224/rp2k/images/0430_16363.jpg</td>\n",
       "      <td>0</td>\n",
       "    </tr>\n",
       "    <tr>\n",
       "      <th>1</th>\n",
       "      <td>final_data_224/rp2k/images/1031_3590.jpg</td>\n",
       "      <td>0</td>\n",
       "    </tr>\n",
       "    <tr>\n",
       "      <th>2</th>\n",
       "      <td>final_data_224/rp2k/images/1031_7966.jpg</td>\n",
       "      <td>0</td>\n",
       "    </tr>\n",
       "    <tr>\n",
       "      <th>3</th>\n",
       "      <td>final_data_224/rp2k/images/0514_47167_1.0.jpg</td>\n",
       "      <td>0</td>\n",
       "    </tr>\n",
       "    <tr>\n",
       "      <th>4</th>\n",
       "      <td>final_data_224/rp2k/images/0514_10245_1.0.jpg</td>\n",
       "      <td>0</td>\n",
       "    </tr>\n",
       "  </tbody>\n",
       "</table>\n",
       "</div>"
      ],
      "text/plain": [
       "                                 new_image_files  new_labels\n",
       "0      final_data_224/rp2k/images/0430_16363.jpg           0\n",
       "1       final_data_224/rp2k/images/1031_3590.jpg           0\n",
       "2       final_data_224/rp2k/images/1031_7966.jpg           0\n",
       "3  final_data_224/rp2k/images/0514_47167_1.0.jpg           0\n",
       "4  final_data_224/rp2k/images/0514_10245_1.0.jpg           0"
      ]
     },
     "execution_count": 11,
     "metadata": {},
     "output_type": "execute_result"
    }
   ],
   "source": [
    "df_merge = pd.concat([df1,df2,df3,df4,df5,df6,df7,df8], axis=0)\n",
    "df_merge['new_labels'] = df_merge['new_labels'].astype('int64')\n",
    "df_merge = df_merge.reset_index(drop=True)\n",
    "df_merge.to_csv('final_data_224/final_data_224.csv', index=False)\n",
    "print(df_merge.shape[0],df_merge['new_labels'].nunique())\n",
    "df_merge.head(5)"
   ]
  },
  {
   "cell_type": "markdown",
   "id": "b1f40524-1945-4ece-9e60-f7b096605e20",
   "metadata": {},
   "source": [
    "#### Sample"
   ]
  },
  {
   "cell_type": "code",
   "execution_count": 12,
   "id": "956d5837-797e-4566-9be7-2df80704658c",
   "metadata": {},
   "outputs": [
    {
     "name": "stderr",
     "output_type": "stream",
     "text": [
      "100%|██████████████████████████████████| 14087/14087 [00:00<00:00, 15902.99it/s]\n"
     ]
    },
    {
     "name": "stdout",
     "output_type": "stream",
     "text": [
      "num: 1358814 classes: 14087\n",
      "----->>>\n",
      "num: 286460 classes: 14087\n"
     ]
    },
    {
     "data": {
      "text/html": [
       "<div>\n",
       "<style scoped>\n",
       "    .dataframe tbody tr th:only-of-type {\n",
       "        vertical-align: middle;\n",
       "    }\n",
       "\n",
       "    .dataframe tbody tr th {\n",
       "        vertical-align: top;\n",
       "    }\n",
       "\n",
       "    .dataframe thead th {\n",
       "        text-align: right;\n",
       "    }\n",
       "</style>\n",
       "<table border=\"1\" class=\"dataframe\">\n",
       "  <thead>\n",
       "    <tr style=\"text-align: right;\">\n",
       "      <th></th>\n",
       "      <th>new_image_files</th>\n",
       "      <th>new_labels</th>\n",
       "    </tr>\n",
       "  </thead>\n",
       "  <tbody>\n",
       "    <tr>\n",
       "      <th>0</th>\n",
       "      <td>final_data_224/rp2k/images/1031_16027.jpg</td>\n",
       "      <td>0</td>\n",
       "    </tr>\n",
       "    <tr>\n",
       "      <th>1</th>\n",
       "      <td>final_data_224/rp2k/images/0514_25265_1.0.jpg</td>\n",
       "      <td>0</td>\n",
       "    </tr>\n",
       "    <tr>\n",
       "      <th>2</th>\n",
       "      <td>final_data_224/rp2k/images/0514_40774_1.0.jpg</td>\n",
       "      <td>0</td>\n",
       "    </tr>\n",
       "    <tr>\n",
       "      <th>3</th>\n",
       "      <td>final_data_224/rp2k/images/1031_15353.jpg</td>\n",
       "      <td>0</td>\n",
       "    </tr>\n",
       "    <tr>\n",
       "      <th>4</th>\n",
       "      <td>final_data_224/rp2k/images/1031_7395.jpg</td>\n",
       "      <td>0</td>\n",
       "    </tr>\n",
       "  </tbody>\n",
       "</table>\n",
       "</div>"
      ],
      "text/plain": [
       "                                 new_image_files  new_labels\n",
       "0      final_data_224/rp2k/images/1031_16027.jpg           0\n",
       "1  final_data_224/rp2k/images/0514_25265_1.0.jpg           0\n",
       "2  final_data_224/rp2k/images/0514_40774_1.0.jpg           0\n",
       "3      final_data_224/rp2k/images/1031_15353.jpg           0\n",
       "4       final_data_224/rp2k/images/1031_7395.jpg           0"
      ]
     },
     "execution_count": 12,
     "metadata": {},
     "output_type": "execute_result"
    }
   ],
   "source": [
    "import pandas as pd\n",
    "from tqdm import tqdm\n",
    "df = pd.read_csv('final_data_224/final_data_224.csv')\n",
    "new_groups = []\n",
    "for label, group in tqdm(df.groupby('new_labels')):\n",
    "    group = group.reset_index(drop=True)\n",
    "    if len(group)>100:\n",
    "        group = group.sample(100)\n",
    "    new_groups.append(group)\n",
    "new_df = pd.concat(new_groups, axis=0).reset_index(drop=True)\n",
    "print('num:', df.shape[0], 'classes:', df['new_labels'].nunique())\n",
    "print('----->>>')\n",
    "print('num:', new_df.shape[0], 'classes:', new_df['new_labels'].nunique())\n",
    "new_df.to_csv('final_data_224/final_data_224_sample.csv')\n",
    "new_df.head(5)"
   ]
  },
  {
   "cell_type": "markdown",
   "id": "fc77551a-1cc2-45d2-a16c-7d82405bfc7f",
   "metadata": {},
   "source": [
    "#### Resample"
   ]
  },
  {
   "cell_type": "code",
   "execution_count": 13,
   "id": "023636d3-bd94-4f06-bc3b-146e14b434cc",
   "metadata": {},
   "outputs": [
    {
     "name": "stderr",
     "output_type": "stream",
     "text": [
      "100%|██████████████████████████████████| 14087/14087 [00:01<00:00, 10133.14it/s]\n"
     ]
    },
    {
     "name": "stdout",
     "output_type": "stream",
     "text": [
      "num: 286460 classes: 14087\n",
      "----->>>\n",
      "num: 396020 classes: 14087\n"
     ]
    },
    {
     "data": {
      "text/html": [
       "<div>\n",
       "<style scoped>\n",
       "    .dataframe tbody tr th:only-of-type {\n",
       "        vertical-align: middle;\n",
       "    }\n",
       "\n",
       "    .dataframe tbody tr th {\n",
       "        vertical-align: top;\n",
       "    }\n",
       "\n",
       "    .dataframe thead th {\n",
       "        text-align: right;\n",
       "    }\n",
       "</style>\n",
       "<table border=\"1\" class=\"dataframe\">\n",
       "  <thead>\n",
       "    <tr style=\"text-align: right;\">\n",
       "      <th></th>\n",
       "      <th>Unnamed: 0</th>\n",
       "      <th>new_image_files</th>\n",
       "      <th>new_labels</th>\n",
       "    </tr>\n",
       "  </thead>\n",
       "  <tbody>\n",
       "    <tr>\n",
       "      <th>0</th>\n",
       "      <td>0</td>\n",
       "      <td>final_data_224/rp2k/images/1031_16027.jpg</td>\n",
       "      <td>0</td>\n",
       "    </tr>\n",
       "    <tr>\n",
       "      <th>1</th>\n",
       "      <td>1</td>\n",
       "      <td>final_data_224/rp2k/images/0514_25265_1.0.jpg</td>\n",
       "      <td>0</td>\n",
       "    </tr>\n",
       "    <tr>\n",
       "      <th>2</th>\n",
       "      <td>2</td>\n",
       "      <td>final_data_224/rp2k/images/0514_40774_1.0.jpg</td>\n",
       "      <td>0</td>\n",
       "    </tr>\n",
       "    <tr>\n",
       "      <th>3</th>\n",
       "      <td>3</td>\n",
       "      <td>final_data_224/rp2k/images/1031_15353.jpg</td>\n",
       "      <td>0</td>\n",
       "    </tr>\n",
       "    <tr>\n",
       "      <th>4</th>\n",
       "      <td>4</td>\n",
       "      <td>final_data_224/rp2k/images/1031_7395.jpg</td>\n",
       "      <td>0</td>\n",
       "    </tr>\n",
       "  </tbody>\n",
       "</table>\n",
       "</div>"
      ],
      "text/plain": [
       "   Unnamed: 0                                new_image_files  new_labels\n",
       "0           0      final_data_224/rp2k/images/1031_16027.jpg           0\n",
       "1           1  final_data_224/rp2k/images/0514_25265_1.0.jpg           0\n",
       "2           2  final_data_224/rp2k/images/0514_40774_1.0.jpg           0\n",
       "3           3      final_data_224/rp2k/images/1031_15353.jpg           0\n",
       "4           4       final_data_224/rp2k/images/1031_7395.jpg           0"
      ]
     },
     "execution_count": 13,
     "metadata": {},
     "output_type": "execute_result"
    }
   ],
   "source": [
    "import pandas as pd\n",
    "from tqdm import tqdm\n",
    "import math\n",
    "min_ = 20\n",
    "df = pd.read_csv('final_data_224/final_data_224_sample.csv')\n",
    "new_groups = []\n",
    "for label, group in tqdm(df.groupby('new_labels')):\n",
    "    group = group.reset_index(drop=True)\n",
    "    if len(group)<min_:\n",
    "        n = min_//len(group)\n",
    "        for i in range(n):\n",
    "            new_groups.append(group)\n",
    "        if min_%len(group)!=0:\n",
    "            new_groups.append(group.sample(min_%len(group)))\n",
    "    else:\n",
    "        new_groups.append(group)\n",
    "new_df = pd.concat(new_groups, axis=0).reset_index(drop=True)\n",
    "print('num:', df.shape[0], 'classes:', df['new_labels'].nunique())\n",
    "print('----->>>')\n",
    "print('num:', new_df.shape[0], 'classes:', new_df['new_labels'].nunique())\n",
    "new_df.to_csv('final_data_224/final_data_224_sample_balance.csv', index=False)\n",
    "new_df.head(5)"
   ]
  },
  {
   "cell_type": "code",
   "execution_count": 14,
   "id": "40956be7-68fd-484d-bf30-6dfe6f66e53d",
   "metadata": {},
   "outputs": [
    {
     "name": "stderr",
     "output_type": "stream",
     "text": [
      "1358814it [12:28, 1815.54it/s]\n"
     ]
    }
   ],
   "source": [
    "df = pd.read_csv('final_data_224/final_data_224.csv')\n",
    "for idx, row in tqdm(df.iterrows()):\n",
    "    path = row['new_image_files']\n",
    "    img = cv2.imread(path)\n",
    "    if img is None:\n",
    "        print(path)\n",
    "        break"
   ]
  }
 ],
 "metadata": {
  "kernelspec": {
   "display_name": "Python 3 (ipykernel)",
   "language": "python",
   "name": "python3"
  },
  "language_info": {
   "codemirror_mode": {
    "name": "ipython",
    "version": 3
   },
   "file_extension": ".py",
   "mimetype": "text/x-python",
   "name": "python",
   "nbconvert_exporter": "python",
   "pygments_lexer": "ipython3",
   "version": "3.10.6"
  }
 },
 "nbformat": 4,
 "nbformat_minor": 5
}
