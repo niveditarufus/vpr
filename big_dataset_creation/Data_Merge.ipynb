{
 "cells": [
  {
   "cell_type": "markdown",
   "id": "32834bac",
   "metadata": {},
   "source": [
    "# Data Merge"
   ]
  },
  {
   "cell_type": "code",
   "execution_count": 16,
   "id": "a89920a1",
   "metadata": {},
   "outputs": [
    {
     "data": {
      "text/html": [
       "<div>\n",
       "<style scoped>\n",
       "    .dataframe tbody tr th:only-of-type {\n",
       "        vertical-align: middle;\n",
       "    }\n",
       "\n",
       "    .dataframe tbody tr th {\n",
       "        vertical-align: top;\n",
       "    }\n",
       "\n",
       "    .dataframe thead th {\n",
       "        text-align: right;\n",
       "    }\n",
       "</style>\n",
       "<table border=\"1\" class=\"dataframe\">\n",
       "  <thead>\n",
       "    <tr style=\"text-align: right;\">\n",
       "      <th></th>\n",
       "      <th>image_files</th>\n",
       "      <th>labels</th>\n",
       "    </tr>\n",
       "  </thead>\n",
       "  <tbody>\n",
       "    <tr>\n",
       "      <th>0</th>\n",
       "      <td>autodl-tmp/final_data_224/rp2k/images/0514_116...</td>\n",
       "      <td>0</td>\n",
       "    </tr>\n",
       "  </tbody>\n",
       "</table>\n",
       "</div>"
      ],
      "text/plain": [
       "                                         image_files  labels\n",
       "0  autodl-tmp/final_data_224/rp2k/images/0514_116...       0"
      ]
     },
     "metadata": {},
     "output_type": "display_data"
    },
    {
     "data": {
      "text/html": [
       "<div>\n",
       "<style scoped>\n",
       "    .dataframe tbody tr th:only-of-type {\n",
       "        vertical-align: middle;\n",
       "    }\n",
       "\n",
       "    .dataframe tbody tr th {\n",
       "        vertical-align: top;\n",
       "    }\n",
       "\n",
       "    .dataframe thead th {\n",
       "        text-align: right;\n",
       "    }\n",
       "</style>\n",
       "<table border=\"1\" class=\"dataframe\">\n",
       "  <thead>\n",
       "    <tr style=\"text-align: right;\">\n",
       "      <th></th>\n",
       "      <th>name</th>\n",
       "      <th>class</th>\n",
       "      <th>group</th>\n",
       "      <th>Usage</th>\n",
       "    </tr>\n",
       "  </thead>\n",
       "  <tbody>\n",
       "    <tr>\n",
       "      <th>0</th>\n",
       "      <td>1.jpg</td>\n",
       "      <td>0</td>\n",
       "      <td>0.0</td>\n",
       "      <td>NaN</td>\n",
       "    </tr>\n",
       "  </tbody>\n",
       "</table>\n",
       "</div>"
      ],
      "text/plain": [
       "    name  class  group Usage\n",
       "0  1.jpg      0    0.0   NaN"
      ]
     },
     "metadata": {},
     "output_type": "display_data"
    },
    {
     "data": {
      "text/html": [
       "<div>\n",
       "<style scoped>\n",
       "    .dataframe tbody tr th:only-of-type {\n",
       "        vertical-align: middle;\n",
       "    }\n",
       "\n",
       "    .dataframe tbody tr th {\n",
       "        vertical-align: top;\n",
       "    }\n",
       "\n",
       "    .dataframe thead th {\n",
       "        text-align: right;\n",
       "    }\n",
       "</style>\n",
       "<table border=\"1\" class=\"dataframe\">\n",
       "  <thead>\n",
       "    <tr style=\"text-align: right;\">\n",
       "      <th></th>\n",
       "      <th>posting_id</th>\n",
       "      <th>image</th>\n",
       "      <th>image_phash</th>\n",
       "      <th>title</th>\n",
       "      <th>label_group</th>\n",
       "    </tr>\n",
       "  </thead>\n",
       "  <tbody>\n",
       "    <tr>\n",
       "      <th>0</th>\n",
       "      <td>train_1646767365</td>\n",
       "      <td>1d7aadc7503b2b4539cc9a5fe41979dd.jpg</td>\n",
       "      <td>e925873ed09cd08f</td>\n",
       "      <td>Sarung celana wadimor original 100% dewasa dan...</td>\n",
       "      <td>258047</td>\n",
       "    </tr>\n",
       "  </tbody>\n",
       "</table>\n",
       "</div>"
      ],
      "text/plain": [
       "         posting_id                                 image       image_phash  \\\n",
       "0  train_1646767365  1d7aadc7503b2b4539cc9a5fe41979dd.jpg  e925873ed09cd08f   \n",
       "\n",
       "                                               title  label_group  \n",
       "0  Sarung celana wadimor original 100% dewasa dan...       258047  "
      ]
     },
     "metadata": {},
     "output_type": "display_data"
    },
    {
     "data": {
      "text/html": [
       "<div>\n",
       "<style scoped>\n",
       "    .dataframe tbody tr th:only-of-type {\n",
       "        vertical-align: middle;\n",
       "    }\n",
       "\n",
       "    .dataframe tbody tr th {\n",
       "        vertical-align: top;\n",
       "    }\n",
       "\n",
       "    .dataframe thead th {\n",
       "        text-align: right;\n",
       "    }\n",
       "</style>\n",
       "<table border=\"1\" class=\"dataframe\">\n",
       "  <thead>\n",
       "    <tr style=\"text-align: right;\">\n",
       "      <th></th>\n",
       "      <th>image_files</th>\n",
       "      <th>labels</th>\n",
       "    </tr>\n",
       "  </thead>\n",
       "  <tbody>\n",
       "    <tr>\n",
       "      <th>0</th>\n",
       "      <td>autodl-tmp/ori_data/Aliproducts/train9/val/447...</td>\n",
       "      <td>1</td>\n",
       "    </tr>\n",
       "  </tbody>\n",
       "</table>\n",
       "</div>"
      ],
      "text/plain": [
       "                                         image_files  labels\n",
       "0  autodl-tmp/ori_data/Aliproducts/train9/val/447...       1"
      ]
     },
     "metadata": {},
     "output_type": "display_data"
    },
    {
     "data": {
      "text/html": [
       "<div>\n",
       "<style scoped>\n",
       "    .dataframe tbody tr th:only-of-type {\n",
       "        vertical-align: middle;\n",
       "    }\n",
       "\n",
       "    .dataframe tbody tr th {\n",
       "        vertical-align: top;\n",
       "    }\n",
       "\n",
       "    .dataframe thead th {\n",
       "        text-align: right;\n",
       "    }\n",
       "</style>\n",
       "<table border=\"1\" class=\"dataframe\">\n",
       "  <thead>\n",
       "    <tr style=\"text-align: right;\">\n",
       "      <th></th>\n",
       "      <th>image_files</th>\n",
       "      <th>labels</th>\n",
       "    </tr>\n",
       "  </thead>\n",
       "  <tbody>\n",
       "    <tr>\n",
       "      <th>0</th>\n",
       "      <td>autodl-tmp/ori_data/Stanford_Online_Products/c...</td>\n",
       "      <td>0</td>\n",
       "    </tr>\n",
       "  </tbody>\n",
       "</table>\n",
       "</div>"
      ],
      "text/plain": [
       "                                         image_files  labels\n",
       "0  autodl-tmp/ori_data/Stanford_Online_Products/c...       0"
      ]
     },
     "metadata": {},
     "output_type": "display_data"
    }
   ],
   "source": [
    "from glob import glob\n",
    "import os\n",
    "import pandas as pd\n",
    "import numpy as np\n",
    "from tqdm import tqdm, trange\n",
    "import cv2\n",
    "\n",
    "df1 = pd.read_csv('autodl-tmp/final_data_224/rp2k/rp2k_final_224.csv')\n",
    "df3 = pd.read_csv('autodl-tmp/final_data_224/JD_Products_10K/JD_product10K_train_final_224.csv')\n",
    "df4 = pd.read_csv('autodl-tmp/final_data_224/Shopee/Shopee_final_224.csv')\n",
    "df6 = pd.read_csv('autodl-tmp/final_data_224/Aliproducts/Aliproducts_final_224.csv')\n",
    "# df9 = pd.read_csv('autodl-tmp/final_data_224/DeepFashion_CTS/DeepFashion_CTS_final_224.csv')\n",
    "# df11 = pd.read_csv('autodl-tmp/final_data_224/DeepFashion2/DeepFashion2_final_224.csv')\n",
    "# df12 = pd.read_csv('autodl-tmp/final_data_224/Fashion_200K/Fashion_200K_final_224.csv')\n",
    "df13 = pd.read_csv('autodl-tmp/final_data_224/Stanford_Products/Stanford_Products_final_224.csv')\n",
    "display(df1.head(1))\n",
    "display(df3.head(1))\n",
    "display(df4.head(1))\n",
    "display(df6.head(1))\n",
    "# display(df9.head(1))\n",
    "# display(df11.head(1))\n",
    "# display(df12.head(1))\n",
    "display(df13.head(1))"
   ]
  },
  {
   "cell_type": "code",
   "execution_count": 15,
   "id": "4cedbe2f",
   "metadata": {},
   "outputs": [
    {
     "name": "stdout",
     "output_type": "stream",
     "text": [
      "2348\n",
      "9691\n",
      "3734\n",
      "27619\n",
      "11190\n"
     ]
    }
   ],
   "source": [
    "df1_labels = df1['labels'].unique()\n",
    "df3_labels = df3['class'].unique()\n",
    "df4_labels = df4['label_group'].unique()\n",
    "df6_labels = df6['labels'].unique()\n",
    "# df9_labels = df9['labels'].unique()\n",
    "# df11_labels = df11['labels'].unique()\n",
    "# df12_labels = df12['labels'].unique()\n",
    "df13_labels = df13['labels'].unique()\n",
    "df1[['new_image_files', 'new_labels']] = [0,0]\n",
    "df3[['new_image_files', 'new_labels']] = [0,0]\n",
    "df4[['new_image_files', 'new_labels']] = [0,0]\n",
    "df6[['new_image_files', 'new_labels']] = [0,0]\n",
    "# df9[['new_image_files', 'new_labels']] = [0,0]\n",
    "# df11[['new_image_files', 'new_labels']] = [0,0]\n",
    "# df12[['new_image_files', 'new_labels']] = [0,0]\n",
    "df13[['new_image_files', 'new_labels']] = [0,0]\n",
    "print(len(df1_labels))\n",
    "print(len(df3_labels))\n",
    "print(len(df4_labels))\n",
    "print(len(df6_labels))\n",
    "# print(len(df9_labels))\n",
    "# print(len(df11_labels))\n",
    "# print(len(df12_labels))\n",
    "print(len(df13_labels))"
   ]
  },
  {
   "cell_type": "markdown",
   "id": "dbc10b06",
   "metadata": {},
   "source": [
    "* rp2k"
   ]
  },
  {
   "cell_type": "code",
   "execution_count": null,
   "id": "68bec62b",
   "metadata": {},
   "outputs": [
    {
     "name": "stderr",
     "output_type": "stream",
     "text": [
      "  2%|▏         | 6392/384183 [00:40<40:02, 157.24it/s]"
     ]
    }
   ],
   "source": [
    "PATH = 'autodl-tmp/final_data_224/rp2k/images'\n",
    "label_count = 0\n",
    "for i in trange(len(df1)):\n",
    "    new_path = df1.loc[i, 'image_files']\n",
    "    df1.loc[i, 'new_image_files'] = new_path\n",
    "    df1.loc[i, 'new_labels'] = np.argwhere(df1_labels==df1.loc[i, 'labels'])[0,0]+label_count\n",
    "img = cv2.imread(df1.loc[0, 'new_image_files'])\n",
    "df1.drop(columns=['image_files', 'labels'], inplace=True)\n",
    "df1.head(1)"
   ]
  },
  {
   "cell_type": "markdown",
   "id": "58902028",
   "metadata": {},
   "source": [
    "* JD_Products_10K"
   ]
  },
  {
   "cell_type": "code",
   "execution_count": null,
   "id": "6ef6276b",
   "metadata": {},
   "outputs": [],
   "source": [
    "PATH = 'autodl-tmp/final_data_224/JD_Products_10K/images'\n",
    "label_count = len(df1_labels)\n",
    "for i in trange(len(df3)):\n",
    "    path = os.path.join(PATH, df3.loc[i, 'name'])\n",
    "    df3.loc[i, 'new_image_files'] = path\n",
    "    df3.loc[i, 'new_labels'] = np.argwhere(df3_labels==df3.loc[i, 'class'])[0,0]+label_count\n",
    "img = cv2.imread(df3.loc[0, 'new_image_files'])\n",
    "df3.drop(columns=['name', 'class', 'group'], inplace=True)\n",
    "df3.head(1)"
   ]
  },
  {
   "cell_type": "markdown",
   "id": "07bf0ed7",
   "metadata": {},
   "source": [
    "* Shopee"
   ]
  },
  {
   "cell_type": "code",
   "execution_count": null,
   "id": "9bcd8f95",
   "metadata": {},
   "outputs": [],
   "source": [
    "PATH = 'autodl-tmp/final_data_224/Shopee/images'\n",
    "label_count = len(df1_labels)+len(df3_labels)\n",
    "for i in trange(len(df4)):\n",
    "    path = os.path.join(PATH, df4.loc[i, 'image'])\n",
    "    df4.loc[i, 'new_image_files'] = path\n",
    "    df4.loc[i, 'new_labels'] = np.argwhere(df4_labels==df4.loc[i, 'label_group'])[0,0]+label_count\n",
    "img = cv2.imread(df4.loc[0, 'new_image_files'])\n",
    "df4.drop(columns=['posting_id', 'image','image_phash', 'title', 'label_group'], inplace=True)\n",
    "df4.head(1)"
   ]
  },
  {
   "cell_type": "markdown",
   "id": "d4f25601",
   "metadata": {},
   "source": [
    "* Ali_product"
   ]
  },
  {
   "cell_type": "code",
   "execution_count": null,
   "id": "481b889d",
   "metadata": {},
   "outputs": [],
   "source": [
    "PATH = 'autodl-tmp/final_data_224/Aliproducts/images'\n",
    "label_count = len(df1_labels)+len(df3_labels)+len(df4_labels)\n",
    "for i in trange(len(df6)):\n",
    "    path = os.path.join(PATH, df6.loc[i, 'image_files'].split('/')[-1])\n",
    "    df6.loc[i, 'new_image_files'] = path\n",
    "    df6.loc[i, 'new_labels'] = np.argwhere(df6_labels==df6.loc[i, 'labels'])[0,0]+label_count\n",
    "img = cv2.imread(df6.loc[0, 'new_image_files'])\n",
    "df6.drop(columns=['image_files', 'labels'], inplace=True)\n",
    "df6.head(1)"
   ]
  },
  {
   "cell_type": "markdown",
   "id": "397646bb",
   "metadata": {},
   "source": [
    "* DeepFashion_CTS"
   ]
  },
  {
   "cell_type": "code",
   "execution_count": null,
   "id": "df689f5e",
   "metadata": {},
   "outputs": [],
   "source": [
    "# label_count = len(df1_labels)+len(df3_labels)+len(df4_labels)+len(df6_labels)\n",
    "# for i in trange(len(df9)):\n",
    "#     new_path = df9.loc[i, 'image_files']\n",
    "#     df9.loc[i, 'new_image_files'] = new_path\n",
    "#     df9.loc[i, 'new_labels'] = np.argwhere(df9_labels==df9.loc[i, 'labels'])[0,0]+label_count\n",
    "# img = cv2.imread(df9.loc[0, 'new_image_files'])\n",
    "# df9.drop(columns=['image_files', 'labels'], inplace=True)\n",
    "# df9.head(1)"
   ]
  },
  {
   "cell_type": "markdown",
   "id": "9932fe9e",
   "metadata": {},
   "source": [
    "* DeepFashion2"
   ]
  },
  {
   "cell_type": "code",
   "execution_count": null,
   "id": "6b975b78",
   "metadata": {},
   "outputs": [],
   "source": [
    "# label_count = len(df1_labels)+len(df3_labels)+len(df4_labels)+len(df6_labels)+len(df9_labels)\n",
    "# for i in trange(len(df11)):\n",
    "#     new_path = df11.loc[i, 'image_files']\n",
    "#     df11.loc[i, 'new_image_files'] = new_path\n",
    "#     df11.loc[i, 'new_labels'] = np.argwhere(df11_labels==df11.loc[i, 'labels'])[0,0]+label_count\n",
    "# img = cv2.imread(df11.loc[0, 'new_image_files'])\n",
    "# df11.drop(columns=['image_files', 'labels'], inplace=True)\n",
    "# df11.head(1)"
   ]
  },
  {
   "cell_type": "markdown",
   "id": "440ed94b",
   "metadata": {},
   "source": [
    "* Fashion200K"
   ]
  },
  {
   "cell_type": "code",
   "execution_count": null,
   "id": "8902526a",
   "metadata": {},
   "outputs": [],
   "source": [
    "# label_count = len(df1_labels)+len(df3_labels)+len(df4_labels)+len(df6_labels)+len(df9_labels)+len(df11_labels)\n",
    "# for i in trange(len(df12)):\n",
    "#     new_path = df12.loc[i, 'image_files']\n",
    "#     df12.loc[i, 'new_image_files'] = new_path\n",
    "#     df12.loc[i, 'new_labels'] = np.argwhere(df12_labels==df12.loc[i, 'labels'])[0,0]+label_count\n",
    "# img = cv2.imread(df12.loc[0, 'new_image_files'])\n",
    "# df12.drop(columns=['image_files', 'labels'], inplace=True)\n",
    "# df12.head(1)"
   ]
  },
  {
   "cell_type": "markdown",
   "id": "fcbcef7f",
   "metadata": {},
   "source": [
    "* Standford_Product"
   ]
  },
  {
   "cell_type": "code",
   "execution_count": null,
   "id": "1d8d5d44",
   "metadata": {},
   "outputs": [],
   "source": [
    "label_count = len(df1_labels)+len(df3_labels)+len(df4_labels)+len(df6_labels)\n",
    "for i in trange(len(df13)):\n",
    "    path = df13.loc[i, 'image_files']\n",
    "    new_path = 'autodl-tmp/final_data_224/Stanford_Products/images/'+path.split('/')[-1]\n",
    "    df13.loc[i, 'new_image_files'] = new_path\n",
    "    df13.loc[i, 'new_labels'] = np.argwhere(df13_labels==df13.loc[i, 'labels'])[0,0]+label_count\n",
    "img = cv2.imread(df13.loc[0, 'new_image_files'])\n",
    "df13.drop(columns=['image_files', 'labels'], inplace=True)\n",
    "df13.head(1)"
   ]
  },
  {
   "cell_type": "markdown",
   "id": "7ec70ae7",
   "metadata": {},
   "source": [
    "### Merge"
   ]
  },
  {
   "cell_type": "code",
   "execution_count": 9,
   "id": "a1867f5d",
   "metadata": {},
   "outputs": [
    {
     "name": "stdout",
     "output_type": "stream",
     "text": [
      "789509 54582\n"
     ]
    },
    {
     "data": {
      "text/html": [
       "<div>\n",
       "<style scoped>\n",
       "    .dataframe tbody tr th:only-of-type {\n",
       "        vertical-align: middle;\n",
       "    }\n",
       "\n",
       "    .dataframe tbody tr th {\n",
       "        vertical-align: top;\n",
       "    }\n",
       "\n",
       "    .dataframe thead th {\n",
       "        text-align: right;\n",
       "    }\n",
       "</style>\n",
       "<table border=\"1\" class=\"dataframe\">\n",
       "  <thead>\n",
       "    <tr style=\"text-align: right;\">\n",
       "      <th></th>\n",
       "      <th>new_image_files</th>\n",
       "      <th>new_labels</th>\n",
       "      <th>Usage</th>\n",
       "    </tr>\n",
       "  </thead>\n",
       "  <tbody>\n",
       "    <tr>\n",
       "      <th>0</th>\n",
       "      <td>autodl-tmp/final_data_224/rp2k/images/0514_116...</td>\n",
       "      <td>0</td>\n",
       "      <td>NaN</td>\n",
       "    </tr>\n",
       "    <tr>\n",
       "      <th>1</th>\n",
       "      <td>autodl-tmp/final_data_224/rp2k/images/0514_394...</td>\n",
       "      <td>0</td>\n",
       "      <td>NaN</td>\n",
       "    </tr>\n",
       "    <tr>\n",
       "      <th>2</th>\n",
       "      <td>autodl-tmp/final_data_224/rp2k/images/0514_256...</td>\n",
       "      <td>0</td>\n",
       "      <td>NaN</td>\n",
       "    </tr>\n",
       "    <tr>\n",
       "      <th>3</th>\n",
       "      <td>autodl-tmp/final_data_224/rp2k/images/0430_791...</td>\n",
       "      <td>0</td>\n",
       "      <td>NaN</td>\n",
       "    </tr>\n",
       "    <tr>\n",
       "      <th>4</th>\n",
       "      <td>autodl-tmp/final_data_224/rp2k/images/0514_174...</td>\n",
       "      <td>0</td>\n",
       "      <td>NaN</td>\n",
       "    </tr>\n",
       "  </tbody>\n",
       "</table>\n",
       "</div>"
      ],
      "text/plain": [
       "                                     new_image_files  new_labels Usage\n",
       "0  autodl-tmp/final_data_224/rp2k/images/0514_116...           0   NaN\n",
       "1  autodl-tmp/final_data_224/rp2k/images/0514_394...           0   NaN\n",
       "2  autodl-tmp/final_data_224/rp2k/images/0514_256...           0   NaN\n",
       "3  autodl-tmp/final_data_224/rp2k/images/0430_791...           0   NaN\n",
       "4  autodl-tmp/final_data_224/rp2k/images/0514_174...           0   NaN"
      ]
     },
     "execution_count": 9,
     "metadata": {},
     "output_type": "execute_result"
    }
   ],
   "source": [
    "df_merge = pd.concat([df1,df3,df4,df6,df13], axis=0)\n",
    "df_merge['new_labels'] = df_merge['new_labels'].astype('int64')\n",
    "df_merge = df_merge.reset_index(drop=True)\n",
    "df_merge.to_csv('autodl-tmp/final_data_224.csv', index=False)\n",
    "print(df_merge.shape[0],df_merge['new_labels'].nunique())\n",
    "df_merge.head(5)"
   ]
  },
  {
   "cell_type": "markdown",
   "id": "a168169f",
   "metadata": {},
   "source": [
    "#### Sample"
   ]
  },
  {
   "cell_type": "code",
   "execution_count": 10,
   "id": "52a9f124",
   "metadata": {},
   "outputs": [
    {
     "name": "stderr",
     "output_type": "stream",
     "text": [
      "/opt/conda/lib/python3.8/site-packages/IPython/core/interactiveshell.py:3397: DtypeWarning: Columns (2) have mixed types.Specify dtype option on import or set low_memory=False.\n",
      "  exec(code_obj, self.user_global_ns, self.user_ns)\n",
      "100%|██████████| 54582/54582 [00:03<00:00, 16323.14it/s]\n"
     ]
    },
    {
     "name": "stdout",
     "output_type": "stream",
     "text": [
      "num: 789509 classes: 54582\n",
      "----->>>\n",
      "num: 529475 classes: 54582\n"
     ]
    },
    {
     "data": {
      "text/html": [
       "<div>\n",
       "<style scoped>\n",
       "    .dataframe tbody tr th:only-of-type {\n",
       "        vertical-align: middle;\n",
       "    }\n",
       "\n",
       "    .dataframe tbody tr th {\n",
       "        vertical-align: top;\n",
       "    }\n",
       "\n",
       "    .dataframe thead th {\n",
       "        text-align: right;\n",
       "    }\n",
       "</style>\n",
       "<table border=\"1\" class=\"dataframe\">\n",
       "  <thead>\n",
       "    <tr style=\"text-align: right;\">\n",
       "      <th></th>\n",
       "      <th>new_image_files</th>\n",
       "      <th>new_labels</th>\n",
       "      <th>Usage</th>\n",
       "    </tr>\n",
       "  </thead>\n",
       "  <tbody>\n",
       "    <tr>\n",
       "      <th>0</th>\n",
       "      <td>autodl-tmp/final_data_224/rp2k/images/0514_191...</td>\n",
       "      <td>0</td>\n",
       "      <td>NaN</td>\n",
       "    </tr>\n",
       "    <tr>\n",
       "      <th>1</th>\n",
       "      <td>autodl-tmp/final_data_224/rp2k/images/0514_509...</td>\n",
       "      <td>0</td>\n",
       "      <td>NaN</td>\n",
       "    </tr>\n",
       "    <tr>\n",
       "      <th>2</th>\n",
       "      <td>autodl-tmp/final_data_224/rp2k/images/0506_476...</td>\n",
       "      <td>0</td>\n",
       "      <td>NaN</td>\n",
       "    </tr>\n",
       "    <tr>\n",
       "      <th>3</th>\n",
       "      <td>autodl-tmp/final_data_224/rp2k/images/0511_307...</td>\n",
       "      <td>0</td>\n",
       "      <td>NaN</td>\n",
       "    </tr>\n",
       "    <tr>\n",
       "      <th>4</th>\n",
       "      <td>autodl-tmp/final_data_224/rp2k/images/0506_282...</td>\n",
       "      <td>0</td>\n",
       "      <td>NaN</td>\n",
       "    </tr>\n",
       "  </tbody>\n",
       "</table>\n",
       "</div>"
      ],
      "text/plain": [
       "                                     new_image_files  new_labels Usage\n",
       "0  autodl-tmp/final_data_224/rp2k/images/0514_191...           0   NaN\n",
       "1  autodl-tmp/final_data_224/rp2k/images/0514_509...           0   NaN\n",
       "2  autodl-tmp/final_data_224/rp2k/images/0506_476...           0   NaN\n",
       "3  autodl-tmp/final_data_224/rp2k/images/0511_307...           0   NaN\n",
       "4  autodl-tmp/final_data_224/rp2k/images/0506_282...           0   NaN"
      ]
     },
     "execution_count": 10,
     "metadata": {},
     "output_type": "execute_result"
    }
   ],
   "source": [
    "import pandas as pd\n",
    "from tqdm import tqdm\n",
    "df = pd.read_csv('autodl-tmp/final_data_224.csv')\n",
    "new_groups = []\n",
    "for label, group in tqdm(df.groupby('new_labels')):\n",
    "    group = group.reset_index(drop=True)\n",
    "    if len(group)>100:\n",
    "        group = group.sample(100)\n",
    "    new_groups.append(group)\n",
    "new_df = pd.concat(new_groups, axis=0).reset_index(drop=True)\n",
    "print('num:', df.shape[0], 'classes:', df['new_labels'].nunique())\n",
    "print('----->>>')\n",
    "print('num:', new_df.shape[0], 'classes:', new_df['new_labels'].nunique())\n",
    "new_df.to_csv('autodl-tmp/final_data_224_sample.csv')\n",
    "new_df.head(5)"
   ]
  },
  {
   "cell_type": "markdown",
   "id": "8c7e6be8",
   "metadata": {},
   "source": [
    "#### Resample"
   ]
  },
  {
   "cell_type": "code",
   "execution_count": 11,
   "id": "f001c8e9",
   "metadata": {},
   "outputs": [
    {
     "name": "stderr",
     "output_type": "stream",
     "text": [
      "/opt/conda/lib/python3.8/site-packages/IPython/core/interactiveshell.py:3397: DtypeWarning: Columns (3) have mixed types.Specify dtype option on import or set low_memory=False.\n",
      "  exec(code_obj, self.user_global_ns, self.user_ns)\n",
      "100%|██████████| 54582/54582 [00:06<00:00, 9063.29it/s] \n"
     ]
    },
    {
     "name": "stdout",
     "output_type": "stream",
     "text": [
      "num: 529475 classes: 54582\n",
      "----->>>\n",
      "num: 1219458 classes: 54582\n"
     ]
    },
    {
     "data": {
      "text/html": [
       "<div>\n",
       "<style scoped>\n",
       "    .dataframe tbody tr th:only-of-type {\n",
       "        vertical-align: middle;\n",
       "    }\n",
       "\n",
       "    .dataframe tbody tr th {\n",
       "        vertical-align: top;\n",
       "    }\n",
       "\n",
       "    .dataframe thead th {\n",
       "        text-align: right;\n",
       "    }\n",
       "</style>\n",
       "<table border=\"1\" class=\"dataframe\">\n",
       "  <thead>\n",
       "    <tr style=\"text-align: right;\">\n",
       "      <th></th>\n",
       "      <th>Unnamed: 0</th>\n",
       "      <th>new_image_files</th>\n",
       "      <th>new_labels</th>\n",
       "      <th>Usage</th>\n",
       "    </tr>\n",
       "  </thead>\n",
       "  <tbody>\n",
       "    <tr>\n",
       "      <th>0</th>\n",
       "      <td>0</td>\n",
       "      <td>autodl-tmp/final_data_224/rp2k/images/0514_191...</td>\n",
       "      <td>0</td>\n",
       "      <td>NaN</td>\n",
       "    </tr>\n",
       "    <tr>\n",
       "      <th>1</th>\n",
       "      <td>1</td>\n",
       "      <td>autodl-tmp/final_data_224/rp2k/images/0514_509...</td>\n",
       "      <td>0</td>\n",
       "      <td>NaN</td>\n",
       "    </tr>\n",
       "    <tr>\n",
       "      <th>2</th>\n",
       "      <td>2</td>\n",
       "      <td>autodl-tmp/final_data_224/rp2k/images/0506_476...</td>\n",
       "      <td>0</td>\n",
       "      <td>NaN</td>\n",
       "    </tr>\n",
       "    <tr>\n",
       "      <th>3</th>\n",
       "      <td>3</td>\n",
       "      <td>autodl-tmp/final_data_224/rp2k/images/0511_307...</td>\n",
       "      <td>0</td>\n",
       "      <td>NaN</td>\n",
       "    </tr>\n",
       "    <tr>\n",
       "      <th>4</th>\n",
       "      <td>4</td>\n",
       "      <td>autodl-tmp/final_data_224/rp2k/images/0506_282...</td>\n",
       "      <td>0</td>\n",
       "      <td>NaN</td>\n",
       "    </tr>\n",
       "  </tbody>\n",
       "</table>\n",
       "</div>"
      ],
      "text/plain": [
       "   Unnamed: 0                                    new_image_files  new_labels  \\\n",
       "0           0  autodl-tmp/final_data_224/rp2k/images/0514_191...           0   \n",
       "1           1  autodl-tmp/final_data_224/rp2k/images/0514_509...           0   \n",
       "2           2  autodl-tmp/final_data_224/rp2k/images/0506_476...           0   \n",
       "3           3  autodl-tmp/final_data_224/rp2k/images/0511_307...           0   \n",
       "4           4  autodl-tmp/final_data_224/rp2k/images/0506_282...           0   \n",
       "\n",
       "  Usage  \n",
       "0   NaN  \n",
       "1   NaN  \n",
       "2   NaN  \n",
       "3   NaN  \n",
       "4   NaN  "
      ]
     },
     "execution_count": 11,
     "metadata": {},
     "output_type": "execute_result"
    }
   ],
   "source": [
    "import pandas as pd\n",
    "from tqdm import tqdm\n",
    "import math\n",
    "min_ = 20\n",
    "df = pd.read_csv('autodl-tmp/final_data_224_sample.csv')\n",
    "new_groups = []\n",
    "for label, group in tqdm(df.groupby('new_labels')):\n",
    "    group = group.reset_index(drop=True)\n",
    "    if len(group)<min_:\n",
    "        n = min_//len(group)\n",
    "        for i in range(n):\n",
    "            new_groups.append(group)\n",
    "        if min_%len(group)!=0:\n",
    "            new_groups.append(group.sample(min_%len(group)))\n",
    "    else:\n",
    "        new_groups.append(group)\n",
    "new_df = pd.concat(new_groups, axis=0).reset_index(drop=True)\n",
    "print('num:', df.shape[0], 'classes:', df['new_labels'].nunique())\n",
    "print('----->>>')\n",
    "print('num:', new_df.shape[0], 'classes:', new_df['new_labels'].nunique())\n",
    "new_df.to_csv('autodl-tmp/final_data_224_sample_balance.csv', index=False)\n",
    "new_df.head(5)"
   ]
  },
  {
   "cell_type": "code",
   "execution_count": 12,
   "id": "afdbf479",
   "metadata": {},
   "outputs": [
    {
     "name": "stderr",
     "output_type": "stream",
     "text": [
      "/opt/conda/lib/python3.8/site-packages/IPython/core/interactiveshell.py:3397: DtypeWarning: Columns (2) have mixed types.Specify dtype option on import or set low_memory=False.\n",
      "  exec(code_obj, self.user_global_ns, self.user_ns)\n",
      "436425it [03:47, 1921.32it/s]\n",
      "\n",
      "KeyboardInterrupt\n",
      "\n"
     ]
    }
   ],
   "source": [
    "df = pd.read_csv('autodl-tmp/final_data_224.csv')\n",
    "for idx, row in tqdm(df.iterrows()):\n",
    "    path = row['new_image_files']\n",
    "    img = cv2.imread(path)\n",
    "    if img is None:\n",
    "        print(path)\n",
    "        break"
   ]
  }
 ],
 "metadata": {
  "kernelspec": {
   "display_name": "Python 3 (ipykernel)",
   "language": "python",
   "name": "python3"
  },
  "language_info": {
   "codemirror_mode": {
    "name": "ipython",
    "version": 3
   },
   "file_extension": ".py",
   "mimetype": "text/x-python",
   "name": "python",
   "nbconvert_exporter": "python",
   "pygments_lexer": "ipython3",
   "version": "3.8.13"
  }
 },
 "nbformat": 4,
 "nbformat_minor": 5
}
