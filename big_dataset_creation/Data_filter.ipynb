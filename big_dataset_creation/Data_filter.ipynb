{
 "cells": [
  {
   "cell_type": "code",
   "execution_count": 1,
   "id": "4a7a16b3",
   "metadata": {},
   "outputs": [],
   "source": [
    "import pandas as pd\n",
    "from tqdm import tqdm, trange\n",
    "import numpy as np"
   ]
  },
  {
   "cell_type": "code",
   "execution_count": 2,
   "id": "2ad9a9ed",
   "metadata": {},
   "outputs": [
    {
     "name": "stdout",
     "output_type": "stream",
     "text": [
      "num: 3124310 classes: 148865\n"
     ]
    },
    {
     "name": "stderr",
     "output_type": "stream",
     "text": [
      "/opt/conda/lib/python3.8/site-packages/IPython/core/interactiveshell.py:3397: DtypeWarning: Columns (3) have mixed types.Specify dtype option on import or set low_memory=False.\n",
      "  exec(code_obj, self.user_global_ns, self.user_ns)\n"
     ]
    }
   ],
   "source": [
    "df = pd.read_csv('autodl-tmp/final_data_224_sample_balance.csv')\n",
    "print('num:', df.shape[0], 'classes:', df['new_labels'].nunique())"
   ]
  },
  {
   "cell_type": "code",
   "execution_count": 3,
   "id": "ca53c604",
   "metadata": {},
   "outputs": [
    {
     "data": {
      "text/plain": [
       "Index(['Unnamed: 0', 'new_image_files', 'new_labels', 'Usage'], dtype='object')"
      ]
     },
     "execution_count": 3,
     "metadata": {},
     "output_type": "execute_result"
    }
   ],
   "source": [
    "df.keys()"
   ]
  },
  {
   "cell_type": "code",
   "execution_count": 4,
   "id": "45f34d3b",
   "metadata": {},
   "outputs": [
    {
     "name": "stdout",
     "output_type": "stream",
     "text": [
      "num: 236976 classes: 9691\n"
     ]
    }
   ],
   "source": [
    "df_pro10k = df[df['new_image_files'].str.contains(\"JD_Products_10K\")]\n",
    "print('num:', df_pro10k.shape[0], 'classes:', df_pro10k['new_labels'].nunique())"
   ]
  },
  {
   "cell_type": "code",
   "execution_count": 5,
   "id": "b7cebfd6",
   "metadata": {},
   "outputs": [
    {
     "name": "stdout",
     "output_type": "stream",
     "text": [
      "num: 789356 classes: 37310\n"
     ]
    },
    {
     "name": "stderr",
     "output_type": "stream",
     "text": [
      "100%|██████████| 789356/789356 [24:24<00:00, 538.84it/s] \n"
     ]
    },
    {
     "name": "stdout",
     "output_type": "stream",
     "text": [
      "num: 789356 classes: 37310\n"
     ]
    }
   ],
   "source": [
    "df_pro10k_ali = df[df['new_image_files'].str.contains(\"JD_Products_10K\") | df['new_image_files'].str.contains(\"Aliproducts\")].reset_index()\n",
    "print('num:', df_pro10k_ali.shape[0], 'classes:', df_pro10k_ali['new_labels'].nunique())\n",
    "df_pro10k_ali=df_pro10k_ali.drop(columns=[\"Unnamed: 0\", \"Usage\"])\n",
    "df_pro10k_ali_labels = df_pro10k_ali['new_labels'].unique()\n",
    "for i in trange(len(df_pro10k_ali)):\n",
    "    df_pro10k_ali.loc[i,'labels'] = np.argwhere(df_pro10k_ali_labels==df_pro10k_ali.loc[i,'new_labels'])[0,0]\n",
    "df_pro10k_ali['new_labels'] = df_pro10k_ali['labels']\n",
    "df_pro10k_ali = df_pro10k_ali.drop(columns='labels')\n",
    "df_pro10k_ali['new_labels'] = df_pro10k_ali['new_labels'].astype('int64')\n",
    "print('num:', df_pro10k_ali.shape[0], 'classes:', df_pro10k_ali['new_labels'].nunique())\n",
    "df_pro10k_ali.to_csv('autodl-tmp/df_pro10k_ali.csv', index=False)"
   ]
  },
  {
   "cell_type": "code",
   "execution_count": 6,
   "id": "d2af8544",
   "metadata": {},
   "outputs": [
    {
     "name": "stdout",
     "output_type": "stream",
     "text": [
      "num: 561066 classes: 25094\n"
     ]
    },
    {
     "name": "stderr",
     "output_type": "stream",
     "text": [
      "100%|██████████| 561066/561066 [08:33<00:00, 1092.44it/s]\n"
     ]
    },
    {
     "name": "stdout",
     "output_type": "stream",
     "text": [
      "num: 561066 classes: 25094\n"
     ]
    }
   ],
   "source": [
    "df_pro10k_deepfashion_cts = df[df['new_image_files'].str.contains(\"JD_Products_10K\") | df['new_image_files'].str.contains(\"DeepFashion_CTS\")].reset_index()\n",
    "print('num:', df_pro10k_deepfashion_cts.shape[0], 'classes:', df_pro10k_deepfashion_cts['new_labels'].nunique())\n",
    "df_pro10k_deepfashion_cts=df_pro10k_deepfashion_cts.drop(columns=[\"Unnamed: 0\", \"Usage\"])\n",
    "df_pro10k_deepfashion_cts_labels = df_pro10k_deepfashion_cts['new_labels'].unique()\n",
    "for i in trange(len(df_pro10k_deepfashion_cts)):\n",
    "    df_pro10k_deepfashion_cts.loc[i,'labels'] = np.argwhere(df_pro10k_deepfashion_cts_labels==df_pro10k_deepfashion_cts.loc[i,'new_labels'])[0,0]\n",
    "df_pro10k_deepfashion_cts['new_labels'] = df_pro10k_deepfashion_cts['labels']\n",
    "df_pro10k_deepfashion_cts = df_pro10k_deepfashion_cts.drop(columns='labels')\n",
    "df_pro10k_deepfashion_cts['new_labels'] = df_pro10k_deepfashion_cts['new_labels'].astype('int64')\n",
    "print('num:', df_pro10k_deepfashion_cts.shape[0], 'classes:', df_pro10k_deepfashion_cts['new_labels'].nunique())\n",
    "df_pro10k_deepfashion_cts.to_csv('autodl-tmp/df_pro10k_deepfashion_cts.csv', index=False)"
   ]
  },
  {
   "cell_type": "code",
   "execution_count": 7,
   "id": "6228b916",
   "metadata": {},
   "outputs": [
    {
     "name": "stdout",
     "output_type": "stream",
     "text": [
      "num: 693035 classes: 32375\n"
     ]
    },
    {
     "name": "stderr",
     "output_type": "stream",
     "text": [
      "100%|██████████| 693035/693035 [15:56<00:00, 724.71it/s]\n"
     ]
    },
    {
     "name": "stdout",
     "output_type": "stream",
     "text": [
      "num: 693035 classes: 32375\n"
     ]
    }
   ],
   "source": [
    "df_pro10k_deepfashion_2 = df[df['new_image_files'].str.contains(\"JD_Products_10K\") | df['new_image_files'].str.contains(\"DeepFashion2\")].reset_index()\n",
    "print('num:', df_pro10k_deepfashion_2.shape[0], 'classes:', df_pro10k_deepfashion_2['new_labels'].nunique())\n",
    "df_pro10k_deepfashion_2=df_pro10k_deepfashion_2.drop(columns=[\"Unnamed: 0\", \"Usage\"])\n",
    "df_pro10k_deepfashion_2_labels = df_pro10k_deepfashion_2['new_labels'].unique()\n",
    "for i in trange(len(df_pro10k_deepfashion_2)):\n",
    "    df_pro10k_deepfashion_2.loc[i,'labels'] = np.argwhere(df_pro10k_deepfashion_2_labels==df_pro10k_deepfashion_2.loc[i,'new_labels'])[0,0]\n",
    "df_pro10k_deepfashion_2['new_labels'] = df_pro10k_deepfashion_2['labels']\n",
    "df_pro10k_deepfashion_2 = df_pro10k_deepfashion_2.drop(columns='labels')\n",
    "df_pro10k_deepfashion_2['new_labels'] = df_pro10k_deepfashion_2['new_labels'].astype('int64')\n",
    "print('num:', df_pro10k_deepfashion_2.shape[0], 'classes:', df_pro10k_deepfashion_2['new_labels'].nunique())\n",
    "df_pro10k_deepfashion_2.to_csv('autodl-tmp/df_pro10k_deepfashion_2.csv', index=False)"
   ]
  },
  {
   "cell_type": "code",
   "execution_count": 8,
   "id": "557aa2d0",
   "metadata": {},
   "outputs": [
    {
     "name": "stdout",
     "output_type": "stream",
     "text": [
      "num: 1361679 classes: 65887\n"
     ]
    },
    {
     "name": "stderr",
     "output_type": "stream",
     "text": [
      "100%|██████████| 1361679/1361679 [1:32:11<00:00, 246.17it/s]\n"
     ]
    },
    {
     "name": "stdout",
     "output_type": "stream",
     "text": [
      "num: 1361679 classes: 65887\n"
     ]
    }
   ],
   "source": [
    "df_pro10k_deepfashion_200k = df[df['new_image_files'].str.contains(\"JD_Products_10K\") | df['new_image_files'].str.contains(\"Fashion_200K\")].reset_index()\n",
    "print('num:', df_pro10k_deepfashion_200k.shape[0], 'classes:', df_pro10k_deepfashion_200k['new_labels'].nunique())\n",
    "df_pro10k_deepfashion_200k=df_pro10k_deepfashion_200k.drop(columns=[\"Unnamed: 0\", \"Usage\"])\n",
    "df_pro10k_deepfashion_200k_labels = df_pro10k_deepfashion_200k['new_labels'].unique()\n",
    "for i in trange(len(df_pro10k_deepfashion_200k)):\n",
    "    df_pro10k_deepfashion_200k.loc[i,'labels'] = np.argwhere(df_pro10k_deepfashion_200k_labels==df_pro10k_deepfashion_200k.loc[i,'new_labels'])[0,0]\n",
    "df_pro10k_deepfashion_200k['new_labels'] = df_pro10k_deepfashion_200k['labels']\n",
    "df_pro10k_deepfashion_200k = df_pro10k_deepfashion_200k.drop(columns='labels')\n",
    "df_pro10k_deepfashion_200k['new_labels'] = df_pro10k_deepfashion_200k['new_labels'].astype('int64')\n",
    "print('num:', df_pro10k_deepfashion_200k.shape[0], 'classes:', df_pro10k_deepfashion_200k['new_labels'].nunique())\n",
    "df_pro10k_deepfashion_200k.to_csv('autodl-tmp/df_pro10k_deepfashion_200k.csv', index=False)"
   ]
  },
  {
   "cell_type": "code",
   "execution_count": 9,
   "id": "3de433b8",
   "metadata": {},
   "outputs": [
    {
     "name": "stdout",
     "output_type": "stream",
     "text": [
      "num: 368085 classes: 12039\n"
     ]
    },
    {
     "name": "stderr",
     "output_type": "stream",
     "text": [
      "100%|██████████| 368085/368085 [02:41<00:00, 2275.82it/s]\n"
     ]
    },
    {
     "name": "stdout",
     "output_type": "stream",
     "text": [
      "num: 368085 classes: 12039\n"
     ]
    }
   ],
   "source": [
    "df_pro10k_rp2k = df[df['new_image_files'].str.contains(\"JD_Products_10K\") | df['new_image_files'].str.contains(\"rp2k\")].reset_index()\n",
    "print('num:', df_pro10k_rp2k.shape[0], 'classes:', df_pro10k_rp2k['new_labels'].nunique())\n",
    "df_pro10k_rp2k=df_pro10k_rp2k.drop(columns=[\"Unnamed: 0\", \"Usage\"])\n",
    "df_pro10k_rp2k_labels = df_pro10k_rp2k['new_labels'].unique()\n",
    "for i in trange(len(df_pro10k_rp2k)):\n",
    "    df_pro10k_rp2k.loc[i,'labels'] = np.argwhere(df_pro10k_rp2k_labels==df_pro10k_rp2k.loc[i,'new_labels'])[0,0]\n",
    "df_pro10k_rp2k['new_labels'] = df_pro10k_rp2k['labels']\n",
    "df_pro10k_rp2k = df_pro10k_rp2k.drop(columns='labels')\n",
    "df_pro10k_rp2k['new_labels'] = df_pro10k_rp2k['new_labels'].astype('int64')\n",
    "print('num:', df_pro10k_rp2k.shape[0], 'classes:', df_pro10k_rp2k['new_labels'].nunique())\n",
    "df_pro10k_rp2k.to_csv('autodl-tmp/df_pro10k_rp2k.csv', index=False)"
   ]
  },
  {
   "cell_type": "code",
   "execution_count": 10,
   "id": "b8de34d1",
   "metadata": {},
   "outputs": [
    {
     "name": "stdout",
     "output_type": "stream",
     "text": [
      "num: 312169 classes: 13425\n"
     ]
    },
    {
     "name": "stderr",
     "output_type": "stream",
     "text": [
      "100%|██████████| 312169/312169 [01:59<00:00, 2617.51it/s]\n"
     ]
    },
    {
     "name": "stdout",
     "output_type": "stream",
     "text": [
      "num: 312169 classes: 13425\n"
     ]
    }
   ],
   "source": [
    "df_pro10k_shopee = df[df['new_image_files'].str.contains(\"JD_Products_10K\") | df['new_image_files'].str.contains(\"Shopee\")].reset_index()\n",
    "print('num:', df_pro10k_shopee.shape[0], 'classes:', df_pro10k_shopee['new_labels'].nunique())\n",
    "df_pro10k_shopee=df_pro10k_shopee.drop(columns=[\"Unnamed: 0\", \"Usage\"])\n",
    "df_pro10k_shopee_labels = df_pro10k_shopee['new_labels'].unique()\n",
    "for i in trange(len(df_pro10k_shopee)):\n",
    "    df_pro10k_shopee.loc[i,'labels'] = np.argwhere(df_pro10k_shopee_labels==df_pro10k_shopee.loc[i,'new_labels'])[0,0]\n",
    "df_pro10k_shopee['new_labels'] = df_pro10k_shopee['labels']\n",
    "df_pro10k_shopee = df_pro10k_shopee.drop(columns='labels')\n",
    "df_pro10k_shopee['new_labels'] = df_pro10k_shopee['new_labels'].astype('int64')\n",
    "print('num:', df_pro10k_shopee.shape[0], 'classes:', df_pro10k_shopee['new_labels'].nunique())\n",
    "df_pro10k_shopee.to_csv('autodl-tmp/df_pro10k_shopee.csv', index=False)"
   ]
  },
  {
   "cell_type": "code",
   "execution_count": 11,
   "id": "500453aa",
   "metadata": {},
   "outputs": [
    {
     "name": "stdout",
     "output_type": "stream",
     "text": [
      "num: 460776 classes: 20881\n"
     ]
    },
    {
     "name": "stderr",
     "output_type": "stream",
     "text": [
      "100%|██████████| 460776/460776 [04:53<00:00, 1569.34it/s]\n"
     ]
    },
    {
     "name": "stdout",
     "output_type": "stream",
     "text": [
      "num: 460776 classes: 20881\n"
     ]
    }
   ],
   "source": [
    "df_pro10k_stnfrd = df[df['new_image_files'].str.contains(\"JD_Products_10K\") | df['new_image_files'].str.contains(\"Stanford_Products\")].reset_index()\n",
    "print('num:', df_pro10k_stnfrd.shape[0], 'classes:', df_pro10k_stnfrd['new_labels'].nunique())\n",
    "df_pro10k_stnfrd=df_pro10k_stnfrd.drop(columns=[\"Unnamed: 0\", \"Usage\"])\n",
    "df_pro10k_stnfrd_labels = df_pro10k_stnfrd['new_labels'].unique()\n",
    "for i in trange(len(df_pro10k_stnfrd)):\n",
    "    df_pro10k_stnfrd.loc[i,'labels'] = np.argwhere(df_pro10k_stnfrd_labels==df_pro10k_stnfrd.loc[i,'new_labels'])[0,0]\n",
    "df_pro10k_stnfrd['new_labels'] = df_pro10k_stnfrd['labels']\n",
    "df_pro10k_stnfrd = df_pro10k_stnfrd.drop(columns='labels')\n",
    "df_pro10k_stnfrd['new_labels'] = df_pro10k_stnfrd['new_labels'].astype('int64')\n",
    "print('num:', df_pro10k_stnfrd.shape[0], 'classes:', df_pro10k_stnfrd['new_labels'].nunique())\n",
    "df_pro10k_stnfrd.to_csv('autodl-tmp/df_pro10k_stnfrd.csv', index=False)"
   ]
  },
  {
   "cell_type": "code",
   "execution_count": 14,
   "id": "1a93d20e",
   "metadata": {},
   "outputs": [
    {
     "data": {
      "text/html": [
       "<div>\n",
       "<style scoped>\n",
       "    .dataframe tbody tr th:only-of-type {\n",
       "        vertical-align: middle;\n",
       "    }\n",
       "\n",
       "    .dataframe tbody tr th {\n",
       "        vertical-align: top;\n",
       "    }\n",
       "\n",
       "    .dataframe thead th {\n",
       "        text-align: right;\n",
       "    }\n",
       "</style>\n",
       "<table border=\"1\" class=\"dataframe\">\n",
       "  <thead>\n",
       "    <tr style=\"text-align: right;\">\n",
       "      <th></th>\n",
       "      <th>index</th>\n",
       "      <th>new_image_files</th>\n",
       "      <th>new_labels</th>\n",
       "    </tr>\n",
       "  </thead>\n",
       "  <tbody>\n",
       "    <tr>\n",
       "      <th>0</th>\n",
       "      <td>131109</td>\n",
       "      <td>autodl-tmp/final_data_224/JD_Products_10K/imag...</td>\n",
       "      <td>0</td>\n",
       "    </tr>\n",
       "    <tr>\n",
       "      <th>1</th>\n",
       "      <td>131110</td>\n",
       "      <td>autodl-tmp/final_data_224/JD_Products_10K/imag...</td>\n",
       "      <td>0</td>\n",
       "    </tr>\n",
       "    <tr>\n",
       "      <th>2</th>\n",
       "      <td>131111</td>\n",
       "      <td>autodl-tmp/final_data_224/JD_Products_10K/imag...</td>\n",
       "      <td>0</td>\n",
       "    </tr>\n",
       "    <tr>\n",
       "      <th>3</th>\n",
       "      <td>131112</td>\n",
       "      <td>autodl-tmp/final_data_224/JD_Products_10K/imag...</td>\n",
       "      <td>0</td>\n",
       "    </tr>\n",
       "    <tr>\n",
       "      <th>4</th>\n",
       "      <td>131113</td>\n",
       "      <td>autodl-tmp/final_data_224/JD_Products_10K/imag...</td>\n",
       "      <td>0</td>\n",
       "    </tr>\n",
       "    <tr>\n",
       "      <th>...</th>\n",
       "      <td>...</td>\n",
       "      <td>...</td>\n",
       "      <td>...</td>\n",
       "    </tr>\n",
       "    <tr>\n",
       "      <th>693030</th>\n",
       "      <td>1775802</td>\n",
       "      <td>autodl-tmp/final_data_224/DeepFashion2/images/...</td>\n",
       "      <td>32374</td>\n",
       "    </tr>\n",
       "    <tr>\n",
       "      <th>693031</th>\n",
       "      <td>1775803</td>\n",
       "      <td>autodl-tmp/final_data_224/DeepFashion2/images/...</td>\n",
       "      <td>32374</td>\n",
       "    </tr>\n",
       "    <tr>\n",
       "      <th>693032</th>\n",
       "      <td>1775804</td>\n",
       "      <td>autodl-tmp/final_data_224/DeepFashion2/images/...</td>\n",
       "      <td>32374</td>\n",
       "    </tr>\n",
       "    <tr>\n",
       "      <th>693033</th>\n",
       "      <td>1775805</td>\n",
       "      <td>autodl-tmp/final_data_224/DeepFashion2/images/...</td>\n",
       "      <td>32374</td>\n",
       "    </tr>\n",
       "    <tr>\n",
       "      <th>693034</th>\n",
       "      <td>1775806</td>\n",
       "      <td>autodl-tmp/final_data_224/DeepFashion2/images/...</td>\n",
       "      <td>32374</td>\n",
       "    </tr>\n",
       "  </tbody>\n",
       "</table>\n",
       "<p>693035 rows × 3 columns</p>\n",
       "</div>"
      ],
      "text/plain": [
       "          index                                    new_image_files  new_labels\n",
       "0        131109  autodl-tmp/final_data_224/JD_Products_10K/imag...           0\n",
       "1        131110  autodl-tmp/final_data_224/JD_Products_10K/imag...           0\n",
       "2        131111  autodl-tmp/final_data_224/JD_Products_10K/imag...           0\n",
       "3        131112  autodl-tmp/final_data_224/JD_Products_10K/imag...           0\n",
       "4        131113  autodl-tmp/final_data_224/JD_Products_10K/imag...           0\n",
       "...         ...                                                ...         ...\n",
       "693030  1775802  autodl-tmp/final_data_224/DeepFashion2/images/...       32374\n",
       "693031  1775803  autodl-tmp/final_data_224/DeepFashion2/images/...       32374\n",
       "693032  1775804  autodl-tmp/final_data_224/DeepFashion2/images/...       32374\n",
       "693033  1775805  autodl-tmp/final_data_224/DeepFashion2/images/...       32374\n",
       "693034  1775806  autodl-tmp/final_data_224/DeepFashion2/images/...       32374\n",
       "\n",
       "[693035 rows x 3 columns]"
      ]
     },
     "execution_count": 14,
     "metadata": {},
     "output_type": "execute_result"
    }
   ],
   "source": [
    "df_pro10k_deepfashion_2"
   ]
  }
 ],
 "metadata": {
  "kernelspec": {
   "display_name": "Python 3 (ipykernel)",
   "language": "python",
   "name": "python3"
  },
  "language_info": {
   "codemirror_mode": {
    "name": "ipython",
    "version": 3
   },
   "file_extension": ".py",
   "mimetype": "text/x-python",
   "name": "python",
   "nbconvert_exporter": "python",
   "pygments_lexer": "ipython3",
   "version": "3.8.13"
  }
 },
 "nbformat": 4,
 "nbformat_minor": 5
}
